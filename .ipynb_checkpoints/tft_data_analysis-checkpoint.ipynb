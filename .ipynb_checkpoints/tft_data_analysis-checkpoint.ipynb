{
 "cells": [
  {
   "cell_type": "code",
   "execution_count": 3,
   "metadata": {},
   "outputs": [],
   "source": [
    "# 기본 모듈 임포트\n",
    "import numpy as np\n",
    "import pandas as pd\n",
    "import pickle\n",
    "import matplotlib.pyplot as plt\n",
    "import numpy as np\n",
    "import json\n",
    "import re \n",
    "import time\n",
    "from pandas.io.json import json_normalize\n",
    "plt.style.use('ggplot') #ggplot스타일 사용\n",
    "plt.rc('axes', unicode_minus=False)"
   ]
  },
  {
   "cell_type": "markdown",
   "metadata": {},
   "source": [
    "# 1. Data Parsing"
   ]
  },
  {
   "cell_type": "code",
   "execution_count": 4,
   "metadata": {},
   "outputs": [],
   "source": [
    "# 데이터 불러오기\n",
    "chall_game = pd.read_csv('./dataset/tft-match-data/TFT_Challenger_MatchData.csv')\n",
    "gr_game = pd.read_csv('./dataset/tft-match-data/TFT_GrandMaster_MatchData.csv')\n",
    "master_game = pd.read_csv('./dataset/tft-match-data/TFT_Master_MatchData.csv')\n",
    "dia_game = pd.read_csv('./dataset/tft-match-data/TFT_Diamond_MatchData.csv')\n",
    "plat_game = pd.read_csv('./dataset/tft-match-data/TFT_Platinum_MatchData.csv')\n",
    "champ = pd.read_csv('./dataset/tft-items-champions/TFT_Champion_CurrentVersion.csv')"
   ]
  },
  {
   "cell_type": "code",
   "execution_count": 5,
   "metadata": {
    "scrolled": true
   },
   "outputs": [
    {
     "data": {
      "text/html": [
       "<div>\n",
       "<style scoped>\n",
       "    .dataframe tbody tr th:only-of-type {\n",
       "        vertical-align: middle;\n",
       "    }\n",
       "\n",
       "    .dataframe tbody tr th {\n",
       "        vertical-align: top;\n",
       "    }\n",
       "\n",
       "    .dataframe thead th {\n",
       "        text-align: right;\n",
       "    }\n",
       "</style>\n",
       "<table border=\"1\" class=\"dataframe\">\n",
       "  <thead>\n",
       "    <tr style=\"text-align: right;\">\n",
       "      <th></th>\n",
       "      <th>gameId</th>\n",
       "      <th>gameDuration</th>\n",
       "      <th>level</th>\n",
       "      <th>lastRound</th>\n",
       "      <th>Ranked</th>\n",
       "      <th>ingameDuration</th>\n",
       "      <th>combination</th>\n",
       "      <th>champion</th>\n",
       "    </tr>\n",
       "  </thead>\n",
       "  <tbody>\n",
       "    <tr>\n",
       "      <th>0</th>\n",
       "      <td>KR_4247538593</td>\n",
       "      <td>2142.470703</td>\n",
       "      <td>8</td>\n",
       "      <td>35</td>\n",
       "      <td>1</td>\n",
       "      <td>2134.272217</td>\n",
       "      <td>{'DarkStar': 2, 'Protector': 4, 'Rebel': 1, 'S...</td>\n",
       "      <td>{'JarvanIV': {'items': [27], 'star': 3}, 'Sona...</td>\n",
       "    </tr>\n",
       "    <tr>\n",
       "      <th>1</th>\n",
       "      <td>KR_4247538593</td>\n",
       "      <td>2142.470703</td>\n",
       "      <td>9</td>\n",
       "      <td>35</td>\n",
       "      <td>2</td>\n",
       "      <td>2134.272217</td>\n",
       "      <td>{'Blaster': 2, 'Mercenary': 1, 'Rebel': 6, 'Se...</td>\n",
       "      <td>{'Malphite': {'items': [7], 'star': 2}, 'Yasuo...</td>\n",
       "    </tr>\n",
       "    <tr>\n",
       "      <th>2</th>\n",
       "      <td>KR_4247538593</td>\n",
       "      <td>2142.470703</td>\n",
       "      <td>8</td>\n",
       "      <td>34</td>\n",
       "      <td>3</td>\n",
       "      <td>2073.459229</td>\n",
       "      <td>{'Cybernetic': 1, 'DarkStar': 3, 'Demolitionis...</td>\n",
       "      <td>{'KaiSa': {'items': [99, 2, 23], 'star': 2}, '...</td>\n",
       "    </tr>\n",
       "    <tr>\n",
       "      <th>3</th>\n",
       "      <td>KR_4247538593</td>\n",
       "      <td>2142.470703</td>\n",
       "      <td>8</td>\n",
       "      <td>33</td>\n",
       "      <td>4</td>\n",
       "      <td>1998.146729</td>\n",
       "      <td>{'Blaster': 1, 'Cybernetic': 1, 'DarkStar': 1,...</td>\n",
       "      <td>{'KaiSa': {'items': [44, 37], 'star': 2}, 'Ann...</td>\n",
       "    </tr>\n",
       "    <tr>\n",
       "      <th>4</th>\n",
       "      <td>KR_4247538593</td>\n",
       "      <td>2142.470703</td>\n",
       "      <td>9</td>\n",
       "      <td>33</td>\n",
       "      <td>5</td>\n",
       "      <td>1986.443237</td>\n",
       "      <td>{'Blaster': 2, 'Demolitionist': 2, 'Mercenary'...</td>\n",
       "      <td>{'Ziggs': {'items': [], 'star': 1}, 'Yasuo': {...</td>\n",
       "    </tr>\n",
       "  </tbody>\n",
       "</table>\n",
       "</div>"
      ],
      "text/plain": [
       "          gameId  gameDuration  level  lastRound  Ranked  ingameDuration  \\\n",
       "0  KR_4247538593   2142.470703      8         35       1     2134.272217   \n",
       "1  KR_4247538593   2142.470703      9         35       2     2134.272217   \n",
       "2  KR_4247538593   2142.470703      8         34       3     2073.459229   \n",
       "3  KR_4247538593   2142.470703      8         33       4     1998.146729   \n",
       "4  KR_4247538593   2142.470703      9         33       5     1986.443237   \n",
       "\n",
       "                                         combination  \\\n",
       "0  {'DarkStar': 2, 'Protector': 4, 'Rebel': 1, 'S...   \n",
       "1  {'Blaster': 2, 'Mercenary': 1, 'Rebel': 6, 'Se...   \n",
       "2  {'Cybernetic': 1, 'DarkStar': 3, 'Demolitionis...   \n",
       "3  {'Blaster': 1, 'Cybernetic': 1, 'DarkStar': 1,...   \n",
       "4  {'Blaster': 2, 'Demolitionist': 2, 'Mercenary'...   \n",
       "\n",
       "                                            champion  \n",
       "0  {'JarvanIV': {'items': [27], 'star': 3}, 'Sona...  \n",
       "1  {'Malphite': {'items': [7], 'star': 2}, 'Yasuo...  \n",
       "2  {'KaiSa': {'items': [99, 2, 23], 'star': 2}, '...  \n",
       "3  {'KaiSa': {'items': [44, 37], 'star': 2}, 'Ann...  \n",
       "4  {'Ziggs': {'items': [], 'star': 1}, 'Yasuo': {...  "
      ]
     },
     "execution_count": 5,
     "metadata": {},
     "output_type": "execute_result"
    }
   ],
   "source": [
    "chall_game.head()"
   ]
  },
  {
   "cell_type": "markdown",
   "metadata": {},
   "source": [
    "# 2. Data Consistency Check"
   ]
  },
  {
   "cell_type": "code",
   "execution_count": 6,
   "metadata": {},
   "outputs": [
    {
     "data": {
      "text/html": [
       "<div>\n",
       "<style scoped>\n",
       "    .dataframe tbody tr th:only-of-type {\n",
       "        vertical-align: middle;\n",
       "    }\n",
       "\n",
       "    .dataframe tbody tr th {\n",
       "        vertical-align: top;\n",
       "    }\n",
       "\n",
       "    .dataframe thead th {\n",
       "        text-align: right;\n",
       "    }\n",
       "</style>\n",
       "<table border=\"1\" class=\"dataframe\">\n",
       "  <thead>\n",
       "    <tr style=\"text-align: right;\">\n",
       "      <th></th>\n",
       "      <th>gameId</th>\n",
       "      <th>gameDuration</th>\n",
       "      <th>level</th>\n",
       "      <th>lastRound</th>\n",
       "      <th>Ranked</th>\n",
       "      <th>ingameDuration</th>\n",
       "      <th>combination</th>\n",
       "      <th>champion</th>\n",
       "    </tr>\n",
       "  </thead>\n",
       "  <tbody>\n",
       "    <tr>\n",
       "      <th>0</th>\n",
       "      <td>KR_4254769102</td>\n",
       "      <td>2319.661377</td>\n",
       "      <td>9</td>\n",
       "      <td>38</td>\n",
       "      <td>1</td>\n",
       "      <td>2311.472168</td>\n",
       "      <td>{'Blaster': 4, 'Chrono': 2, 'Cybernetic': 2, '...</td>\n",
       "      <td>{'Malphite': {'items': [], 'star': 2}, 'Blitzc...</td>\n",
       "    </tr>\n",
       "    <tr>\n",
       "      <th>1</th>\n",
       "      <td>KR_4254769102</td>\n",
       "      <td>2319.661377</td>\n",
       "      <td>9</td>\n",
       "      <td>38</td>\n",
       "      <td>2</td>\n",
       "      <td>2311.472168</td>\n",
       "      <td>{'Blaster': 2, 'Chrono': 2, 'Cybernetic': 6, '...</td>\n",
       "      <td>{'Fiora': {'items': [], 'star': 2}, 'Leona': {...</td>\n",
       "    </tr>\n",
       "    <tr>\n",
       "      <th>2</th>\n",
       "      <td>KR_4254769102</td>\n",
       "      <td>2319.661377</td>\n",
       "      <td>9</td>\n",
       "      <td>37</td>\n",
       "      <td>3</td>\n",
       "      <td>2247.994873</td>\n",
       "      <td>{'DarkStar': 2, 'Protector': 4, 'Rebel': 1, 'S...</td>\n",
       "      <td>{'JarvanIV': {'items': [], 'star': 3}, 'Sona':...</td>\n",
       "    </tr>\n",
       "    <tr>\n",
       "      <th>3</th>\n",
       "      <td>KR_4254769102</td>\n",
       "      <td>2319.661377</td>\n",
       "      <td>7</td>\n",
       "      <td>33</td>\n",
       "      <td>4</td>\n",
       "      <td>1996.358643</td>\n",
       "      <td>{'DarkStar': 2, 'Demolitionist': 1, 'Infiltrat...</td>\n",
       "      <td>{'KhaZix': {'items': [], 'star': 2}, 'KaiSa': ...</td>\n",
       "    </tr>\n",
       "    <tr>\n",
       "      <th>4</th>\n",
       "      <td>KR_4254769102</td>\n",
       "      <td>2319.661377</td>\n",
       "      <td>8</td>\n",
       "      <td>31</td>\n",
       "      <td>5</td>\n",
       "      <td>1871.789551</td>\n",
       "      <td>{'Chrono': 1, 'Cybernetic': 1, 'DarkStar': 3, ...</td>\n",
       "      <td>{'Leona': {'items': [], 'star': 1}, 'Mordekais...</td>\n",
       "    </tr>\n",
       "  </tbody>\n",
       "</table>\n",
       "</div>"
      ],
      "text/plain": [
       "          gameId  gameDuration  level  lastRound  Ranked  ingameDuration  \\\n",
       "0  KR_4254769102   2319.661377      9         38       1     2311.472168   \n",
       "1  KR_4254769102   2319.661377      9         38       2     2311.472168   \n",
       "2  KR_4254769102   2319.661377      9         37       3     2247.994873   \n",
       "3  KR_4254769102   2319.661377      7         33       4     1996.358643   \n",
       "4  KR_4254769102   2319.661377      8         31       5     1871.789551   \n",
       "\n",
       "                                         combination  \\\n",
       "0  {'Blaster': 4, 'Chrono': 2, 'Cybernetic': 2, '...   \n",
       "1  {'Blaster': 2, 'Chrono': 2, 'Cybernetic': 6, '...   \n",
       "2  {'DarkStar': 2, 'Protector': 4, 'Rebel': 1, 'S...   \n",
       "3  {'DarkStar': 2, 'Demolitionist': 1, 'Infiltrat...   \n",
       "4  {'Chrono': 1, 'Cybernetic': 1, 'DarkStar': 3, ...   \n",
       "\n",
       "                                            champion  \n",
       "0  {'Malphite': {'items': [], 'star': 2}, 'Blitzc...  \n",
       "1  {'Fiora': {'items': [], 'star': 2}, 'Leona': {...  \n",
       "2  {'JarvanIV': {'items': [], 'star': 3}, 'Sona':...  \n",
       "3  {'KhaZix': {'items': [], 'star': 2}, 'KaiSa': ...  \n",
       "4  {'Leona': {'items': [], 'star': 1}, 'Mordekais...  "
      ]
     },
     "execution_count": 6,
     "metadata": {},
     "output_type": "execute_result"
    }
   ],
   "source": [
    "gr_game.head()"
   ]
  },
  {
   "cell_type": "code",
   "execution_count": 7,
   "metadata": {},
   "outputs": [
    {
     "data": {
      "text/html": [
       "<div>\n",
       "<style scoped>\n",
       "    .dataframe tbody tr th:only-of-type {\n",
       "        vertical-align: middle;\n",
       "    }\n",
       "\n",
       "    .dataframe tbody tr th {\n",
       "        vertical-align: top;\n",
       "    }\n",
       "\n",
       "    .dataframe thead th {\n",
       "        text-align: right;\n",
       "    }\n",
       "</style>\n",
       "<table border=\"1\" class=\"dataframe\">\n",
       "  <thead>\n",
       "    <tr style=\"text-align: right;\">\n",
       "      <th></th>\n",
       "      <th>gameId</th>\n",
       "      <th>gameDuration</th>\n",
       "      <th>level</th>\n",
       "      <th>lastRound</th>\n",
       "      <th>Ranked</th>\n",
       "      <th>ingameDuration</th>\n",
       "      <th>combination</th>\n",
       "      <th>champion</th>\n",
       "    </tr>\n",
       "  </thead>\n",
       "  <tbody>\n",
       "    <tr>\n",
       "      <th>0</th>\n",
       "      <td>KR_4242528808</td>\n",
       "      <td>2233.449951</td>\n",
       "      <td>8</td>\n",
       "      <td>37</td>\n",
       "      <td>1</td>\n",
       "      <td>2225.243408</td>\n",
       "      <td>{'DarkStar': 2, 'Protector': 4, 'Rebel': 1, 'S...</td>\n",
       "      <td>{'JarvanIV': {'items': [12], 'star': 3}, 'Sona...</td>\n",
       "    </tr>\n",
       "    <tr>\n",
       "      <th>1</th>\n",
       "      <td>KR_4242528808</td>\n",
       "      <td>2233.449951</td>\n",
       "      <td>9</td>\n",
       "      <td>37</td>\n",
       "      <td>2</td>\n",
       "      <td>2225.243408</td>\n",
       "      <td>{'Blaster': 2, 'Chrono': 1, 'Cybernetic': 1, '...</td>\n",
       "      <td>{'Malphite': {'items': [], 'star': 2}, 'Blitzc...</td>\n",
       "    </tr>\n",
       "    <tr>\n",
       "      <th>2</th>\n",
       "      <td>KR_4242528808</td>\n",
       "      <td>2233.449951</td>\n",
       "      <td>8</td>\n",
       "      <td>35</td>\n",
       "      <td>3</td>\n",
       "      <td>2138.763428</td>\n",
       "      <td>{'Blaster': 3, 'Chrono': 2, 'Cybernetic': 1, '...</td>\n",
       "      <td>{'Malphite': {'items': [], 'star': 2}, 'Blitzc...</td>\n",
       "    </tr>\n",
       "    <tr>\n",
       "      <th>3</th>\n",
       "      <td>KR_4242528808</td>\n",
       "      <td>2233.449951</td>\n",
       "      <td>8</td>\n",
       "      <td>33</td>\n",
       "      <td>4</td>\n",
       "      <td>2003.865967</td>\n",
       "      <td>{'Chrono': 2, 'Cybernetic': 2, 'DarkStar': 2, ...</td>\n",
       "      <td>{'Leona': {'items': [], 'star': 2}, 'Mordekais...</td>\n",
       "    </tr>\n",
       "    <tr>\n",
       "      <th>4</th>\n",
       "      <td>KR_4242528808</td>\n",
       "      <td>2233.449951</td>\n",
       "      <td>7</td>\n",
       "      <td>31</td>\n",
       "      <td>5</td>\n",
       "      <td>1885.395386</td>\n",
       "      <td>{'Blaster': 1, 'DarkStar': 1, 'Demolitionist':...</td>\n",
       "      <td>{'KhaZix': {'items': [], 'star': 2}, 'KaiSa': ...</td>\n",
       "    </tr>\n",
       "  </tbody>\n",
       "</table>\n",
       "</div>"
      ],
      "text/plain": [
       "          gameId  gameDuration  level  lastRound  Ranked  ingameDuration  \\\n",
       "0  KR_4242528808   2233.449951      8         37       1     2225.243408   \n",
       "1  KR_4242528808   2233.449951      9         37       2     2225.243408   \n",
       "2  KR_4242528808   2233.449951      8         35       3     2138.763428   \n",
       "3  KR_4242528808   2233.449951      8         33       4     2003.865967   \n",
       "4  KR_4242528808   2233.449951      7         31       5     1885.395386   \n",
       "\n",
       "                                         combination  \\\n",
       "0  {'DarkStar': 2, 'Protector': 4, 'Rebel': 1, 'S...   \n",
       "1  {'Blaster': 2, 'Chrono': 1, 'Cybernetic': 1, '...   \n",
       "2  {'Blaster': 3, 'Chrono': 2, 'Cybernetic': 1, '...   \n",
       "3  {'Chrono': 2, 'Cybernetic': 2, 'DarkStar': 2, ...   \n",
       "4  {'Blaster': 1, 'DarkStar': 1, 'Demolitionist':...   \n",
       "\n",
       "                                            champion  \n",
       "0  {'JarvanIV': {'items': [12], 'star': 3}, 'Sona...  \n",
       "1  {'Malphite': {'items': [], 'star': 2}, 'Blitzc...  \n",
       "2  {'Malphite': {'items': [], 'star': 2}, 'Blitzc...  \n",
       "3  {'Leona': {'items': [], 'star': 2}, 'Mordekais...  \n",
       "4  {'KhaZix': {'items': [], 'star': 2}, 'KaiSa': ...  "
      ]
     },
     "execution_count": 7,
     "metadata": {},
     "output_type": "execute_result"
    }
   ],
   "source": [
    "master_game.head()"
   ]
  },
  {
   "cell_type": "code",
   "execution_count": 8,
   "metadata": {},
   "outputs": [
    {
     "data": {
      "text/html": [
       "<div>\n",
       "<style scoped>\n",
       "    .dataframe tbody tr th:only-of-type {\n",
       "        vertical-align: middle;\n",
       "    }\n",
       "\n",
       "    .dataframe tbody tr th {\n",
       "        vertical-align: top;\n",
       "    }\n",
       "\n",
       "    .dataframe thead th {\n",
       "        text-align: right;\n",
       "    }\n",
       "</style>\n",
       "<table border=\"1\" class=\"dataframe\">\n",
       "  <thead>\n",
       "    <tr style=\"text-align: right;\">\n",
       "      <th></th>\n",
       "      <th>gameId</th>\n",
       "      <th>gameDuration</th>\n",
       "      <th>level</th>\n",
       "      <th>lastRound</th>\n",
       "      <th>Ranked</th>\n",
       "      <th>ingameDuration</th>\n",
       "      <th>combination</th>\n",
       "      <th>champion</th>\n",
       "    </tr>\n",
       "  </thead>\n",
       "  <tbody>\n",
       "    <tr>\n",
       "      <th>0</th>\n",
       "      <td>KR_4357546733</td>\n",
       "      <td>2326.065674</td>\n",
       "      <td>8</td>\n",
       "      <td>37</td>\n",
       "      <td>4</td>\n",
       "      <td>2089.551514</td>\n",
       "      <td>{'DarkStar': 2, 'Protector': 4, 'Rebel': 2, 'S...</td>\n",
       "      <td>{'JarvanIV': {'items': [2, 58], 'star': 3}, 'S...</td>\n",
       "    </tr>\n",
       "    <tr>\n",
       "      <th>1</th>\n",
       "      <td>KR_4357546733</td>\n",
       "      <td>2326.065674</td>\n",
       "      <td>7</td>\n",
       "      <td>26</td>\n",
       "      <td>7</td>\n",
       "      <td>1467.931519</td>\n",
       "      <td>{'Chrono': 1, 'Cybernetic': 1, 'Infiltrator': ...</td>\n",
       "      <td>{'Malphite': {'items': [], 'star': 3}, 'KhaZix...</td>\n",
       "    </tr>\n",
       "    <tr>\n",
       "      <th>2</th>\n",
       "      <td>KR_4357546733</td>\n",
       "      <td>2326.065674</td>\n",
       "      <td>7</td>\n",
       "      <td>26</td>\n",
       "      <td>8</td>\n",
       "      <td>1464.743164</td>\n",
       "      <td>{'DarkStar': 1, 'Protector': 1, 'Set3_Mystic':...</td>\n",
       "      <td>{'Poppy': {'items': [25, 27], 'star': 3}, 'Zoe...</td>\n",
       "    </tr>\n",
       "    <tr>\n",
       "      <th>3</th>\n",
       "      <td>KR_4357546733</td>\n",
       "      <td>2326.065674</td>\n",
       "      <td>8</td>\n",
       "      <td>35</td>\n",
       "      <td>5</td>\n",
       "      <td>2008.209961</td>\n",
       "      <td>{'Chrono': 2, 'Cybernetic': 1, 'Infiltrator': ...</td>\n",
       "      <td>{'TwistedFate': {'items': [], 'star': 3}, 'Mal...</td>\n",
       "    </tr>\n",
       "    <tr>\n",
       "      <th>4</th>\n",
       "      <td>KR_4357546733</td>\n",
       "      <td>2326.065674</td>\n",
       "      <td>7</td>\n",
       "      <td>41</td>\n",
       "      <td>2</td>\n",
       "      <td>2317.777588</td>\n",
       "      <td>{'DarkStar': 1, 'Demolitionist': 2, 'Infiltrat...</td>\n",
       "      <td>{'KhaZix': {'items': [], 'star': 2}, 'KaiSa': ...</td>\n",
       "    </tr>\n",
       "  </tbody>\n",
       "</table>\n",
       "</div>"
      ],
      "text/plain": [
       "          gameId  gameDuration  level  lastRound  Ranked  ingameDuration  \\\n",
       "0  KR_4357546733   2326.065674      8         37       4     2089.551514   \n",
       "1  KR_4357546733   2326.065674      7         26       7     1467.931519   \n",
       "2  KR_4357546733   2326.065674      7         26       8     1464.743164   \n",
       "3  KR_4357546733   2326.065674      8         35       5     2008.209961   \n",
       "4  KR_4357546733   2326.065674      7         41       2     2317.777588   \n",
       "\n",
       "                                         combination  \\\n",
       "0  {'DarkStar': 2, 'Protector': 4, 'Rebel': 2, 'S...   \n",
       "1  {'Chrono': 1, 'Cybernetic': 1, 'Infiltrator': ...   \n",
       "2  {'DarkStar': 1, 'Protector': 1, 'Set3_Mystic':...   \n",
       "3  {'Chrono': 2, 'Cybernetic': 1, 'Infiltrator': ...   \n",
       "4  {'DarkStar': 1, 'Demolitionist': 2, 'Infiltrat...   \n",
       "\n",
       "                                            champion  \n",
       "0  {'JarvanIV': {'items': [2, 58], 'star': 3}, 'S...  \n",
       "1  {'Malphite': {'items': [], 'star': 3}, 'KhaZix...  \n",
       "2  {'Poppy': {'items': [25, 27], 'star': 3}, 'Zoe...  \n",
       "3  {'TwistedFate': {'items': [], 'star': 3}, 'Mal...  \n",
       "4  {'KhaZix': {'items': [], 'star': 2}, 'KaiSa': ...  "
      ]
     },
     "execution_count": 8,
     "metadata": {},
     "output_type": "execute_result"
    }
   ],
   "source": [
    "dia_game.head()"
   ]
  },
  {
   "cell_type": "code",
   "execution_count": 9,
   "metadata": {
    "scrolled": true
   },
   "outputs": [
    {
     "data": {
      "text/html": [
       "<div>\n",
       "<style scoped>\n",
       "    .dataframe tbody tr th:only-of-type {\n",
       "        vertical-align: middle;\n",
       "    }\n",
       "\n",
       "    .dataframe tbody tr th {\n",
       "        vertical-align: top;\n",
       "    }\n",
       "\n",
       "    .dataframe thead th {\n",
       "        text-align: right;\n",
       "    }\n",
       "</style>\n",
       "<table border=\"1\" class=\"dataframe\">\n",
       "  <thead>\n",
       "    <tr style=\"text-align: right;\">\n",
       "      <th></th>\n",
       "      <th>gameId</th>\n",
       "      <th>gameDuration</th>\n",
       "      <th>level</th>\n",
       "      <th>lastRound</th>\n",
       "      <th>Ranked</th>\n",
       "      <th>ingameDuration</th>\n",
       "      <th>combination</th>\n",
       "      <th>champion</th>\n",
       "    </tr>\n",
       "  </thead>\n",
       "  <tbody>\n",
       "    <tr>\n",
       "      <th>0</th>\n",
       "      <td>KR_4291707834</td>\n",
       "      <td>1963.905273</td>\n",
       "      <td>6</td>\n",
       "      <td>27</td>\n",
       "      <td>5</td>\n",
       "      <td>1390.165771</td>\n",
       "      <td>{'Cybernetic': 1, 'Demolitionist': 1, 'Infiltr...</td>\n",
       "      <td>{'Ziggs': {'items': [7], 'star': 1}, 'Ashe': {...</td>\n",
       "    </tr>\n",
       "    <tr>\n",
       "      <th>1</th>\n",
       "      <td>KR_4291707834</td>\n",
       "      <td>1963.905273</td>\n",
       "      <td>8</td>\n",
       "      <td>37</td>\n",
       "      <td>3</td>\n",
       "      <td>1891.282715</td>\n",
       "      <td>{'Blaster': 1, 'Chrono': 1, 'Cybernetic': 4, '...</td>\n",
       "      <td>{'Ziggs': {'items': [24], 'star': 3}, 'Fiora':...</td>\n",
       "    </tr>\n",
       "    <tr>\n",
       "      <th>2</th>\n",
       "      <td>KR_4291707834</td>\n",
       "      <td>1963.905273</td>\n",
       "      <td>6</td>\n",
       "      <td>25</td>\n",
       "      <td>7</td>\n",
       "      <td>1279.461060</td>\n",
       "      <td>{'Blaster': 1, 'Cybernetic': 1, 'DarkStar': 2,...</td>\n",
       "      <td>{'Fiora': {'items': [1], 'star': 1}, 'Shaco': ...</td>\n",
       "    </tr>\n",
       "    <tr>\n",
       "      <th>3</th>\n",
       "      <td>KR_4291707834</td>\n",
       "      <td>1963.905273</td>\n",
       "      <td>7</td>\n",
       "      <td>38</td>\n",
       "      <td>2</td>\n",
       "      <td>1955.608521</td>\n",
       "      <td>{'DarkStar': 1, 'Protector': 2, 'Set3_Blademas...</td>\n",
       "      <td>{'Poppy': {'items': [], 'star': 2}, 'Xayah': {...</td>\n",
       "    </tr>\n",
       "    <tr>\n",
       "      <th>4</th>\n",
       "      <td>KR_4291707834</td>\n",
       "      <td>1963.905273</td>\n",
       "      <td>8</td>\n",
       "      <td>38</td>\n",
       "      <td>1</td>\n",
       "      <td>1955.608521</td>\n",
       "      <td>{'Blaster': 1, 'Chrono': 5, 'DarkStar': 3, 'Pr...</td>\n",
       "      <td>{'TwistedFate': {'items': [36, 27], 'star': 3}...</td>\n",
       "    </tr>\n",
       "  </tbody>\n",
       "</table>\n",
       "</div>"
      ],
      "text/plain": [
       "          gameId  gameDuration  level  lastRound  Ranked  ingameDuration  \\\n",
       "0  KR_4291707834   1963.905273      6         27       5     1390.165771   \n",
       "1  KR_4291707834   1963.905273      8         37       3     1891.282715   \n",
       "2  KR_4291707834   1963.905273      6         25       7     1279.461060   \n",
       "3  KR_4291707834   1963.905273      7         38       2     1955.608521   \n",
       "4  KR_4291707834   1963.905273      8         38       1     1955.608521   \n",
       "\n",
       "                                         combination  \\\n",
       "0  {'Cybernetic': 1, 'Demolitionist': 1, 'Infiltr...   \n",
       "1  {'Blaster': 1, 'Chrono': 1, 'Cybernetic': 4, '...   \n",
       "2  {'Blaster': 1, 'Cybernetic': 1, 'DarkStar': 2,...   \n",
       "3  {'DarkStar': 1, 'Protector': 2, 'Set3_Blademas...   \n",
       "4  {'Blaster': 1, 'Chrono': 5, 'DarkStar': 3, 'Pr...   \n",
       "\n",
       "                                            champion  \n",
       "0  {'Ziggs': {'items': [7], 'star': 1}, 'Ashe': {...  \n",
       "1  {'Ziggs': {'items': [24], 'star': 3}, 'Fiora':...  \n",
       "2  {'Fiora': {'items': [1], 'star': 1}, 'Shaco': ...  \n",
       "3  {'Poppy': {'items': [], 'star': 2}, 'Xayah': {...  \n",
       "4  {'TwistedFate': {'items': [36, 27], 'star': 3}...  "
      ]
     },
     "execution_count": 9,
     "metadata": {},
     "output_type": "execute_result"
    }
   ],
   "source": [
    "plat_game.head()"
   ]
  },
  {
   "cell_type": "code",
   "execution_count": 10,
   "metadata": {
    "scrolled": true
   },
   "outputs": [
    {
     "data": {
      "text/html": [
       "<div>\n",
       "<style scoped>\n",
       "    .dataframe tbody tr th:only-of-type {\n",
       "        vertical-align: middle;\n",
       "    }\n",
       "\n",
       "    .dataframe tbody tr th {\n",
       "        vertical-align: top;\n",
       "    }\n",
       "\n",
       "    .dataframe thead th {\n",
       "        text-align: right;\n",
       "    }\n",
       "</style>\n",
       "<table border=\"1\" class=\"dataframe\">\n",
       "  <thead>\n",
       "    <tr style=\"text-align: right;\">\n",
       "      <th></th>\n",
       "      <th>name</th>\n",
       "      <th>cost</th>\n",
       "      <th>health</th>\n",
       "      <th>defense</th>\n",
       "      <th>attack</th>\n",
       "      <th>attack_range</th>\n",
       "      <th>speed_of_attack</th>\n",
       "      <th>dps</th>\n",
       "      <th>skill_name</th>\n",
       "      <th>skill_cost</th>\n",
       "      <th>origin</th>\n",
       "      <th>class</th>\n",
       "    </tr>\n",
       "  </thead>\n",
       "  <tbody>\n",
       "    <tr>\n",
       "      <th>0</th>\n",
       "      <td>gangplank</td>\n",
       "      <td>5</td>\n",
       "      <td>1000</td>\n",
       "      <td>30</td>\n",
       "      <td>60</td>\n",
       "      <td>1</td>\n",
       "      <td>1.00</td>\n",
       "      <td>60</td>\n",
       "      <td>gangplank_orbitalstrike</td>\n",
       "      <td>100/175</td>\n",
       "      <td>Space Pirate</td>\n",
       "      <td>['Mercenary', 'Demolitionist']</td>\n",
       "    </tr>\n",
       "    <tr>\n",
       "      <th>1</th>\n",
       "      <td>graves</td>\n",
       "      <td>1</td>\n",
       "      <td>650</td>\n",
       "      <td>35</td>\n",
       "      <td>55</td>\n",
       "      <td>1</td>\n",
       "      <td>0.55</td>\n",
       "      <td>30</td>\n",
       "      <td>graves_smokegrenade</td>\n",
       "      <td>50/80</td>\n",
       "      <td>Space Pirate</td>\n",
       "      <td>['Blaster']</td>\n",
       "    </tr>\n",
       "    <tr>\n",
       "      <th>2</th>\n",
       "      <td>neeko</td>\n",
       "      <td>3</td>\n",
       "      <td>800</td>\n",
       "      <td>35</td>\n",
       "      <td>50</td>\n",
       "      <td>2</td>\n",
       "      <td>0.65</td>\n",
       "      <td>33</td>\n",
       "      <td>neeko_popblossom</td>\n",
       "      <td>75/150</td>\n",
       "      <td>Star Guardian</td>\n",
       "      <td>['Protector']</td>\n",
       "    </tr>\n",
       "    <tr>\n",
       "      <th>3</th>\n",
       "      <td>darius</td>\n",
       "      <td>2</td>\n",
       "      <td>750</td>\n",
       "      <td>35</td>\n",
       "      <td>60</td>\n",
       "      <td>1</td>\n",
       "      <td>0.65</td>\n",
       "      <td>39</td>\n",
       "      <td>darius_spacepirateguillotine</td>\n",
       "      <td>0/60</td>\n",
       "      <td>Space Pirate</td>\n",
       "      <td>['Mana-Reaver']</td>\n",
       "    </tr>\n",
       "    <tr>\n",
       "      <th>4</th>\n",
       "      <td>rakan</td>\n",
       "      <td>2</td>\n",
       "      <td>600</td>\n",
       "      <td>35</td>\n",
       "      <td>45</td>\n",
       "      <td>2</td>\n",
       "      <td>0.70</td>\n",
       "      <td>32</td>\n",
       "      <td>rakan_grandentrance</td>\n",
       "      <td>50/100</td>\n",
       "      <td>Celestial</td>\n",
       "      <td>['Protector']</td>\n",
       "    </tr>\n",
       "  </tbody>\n",
       "</table>\n",
       "</div>"
      ],
      "text/plain": [
       "        name  cost  health  defense  attack  attack_range  speed_of_attack  \\\n",
       "0  gangplank     5    1000       30      60             1             1.00   \n",
       "1     graves     1     650       35      55             1             0.55   \n",
       "2      neeko     3     800       35      50             2             0.65   \n",
       "3     darius     2     750       35      60             1             0.65   \n",
       "4      rakan     2     600       35      45             2             0.70   \n",
       "\n",
       "   dps                    skill_name skill_cost         origin  \\\n",
       "0   60       gangplank_orbitalstrike    100/175   Space Pirate   \n",
       "1   30           graves_smokegrenade      50/80   Space Pirate   \n",
       "2   33              neeko_popblossom     75/150  Star Guardian   \n",
       "3   39  darius_spacepirateguillotine       0/60   Space Pirate   \n",
       "4   32           rakan_grandentrance     50/100      Celestial   \n",
       "\n",
       "                            class  \n",
       "0  ['Mercenary', 'Demolitionist']  \n",
       "1                     ['Blaster']  \n",
       "2                   ['Protector']  \n",
       "3                 ['Mana-Reaver']  \n",
       "4                   ['Protector']  "
      ]
     },
     "execution_count": 10,
     "metadata": {},
     "output_type": "execute_result"
    }
   ],
   "source": [
    "champ.head()"
   ]
  },
  {
   "cell_type": "markdown",
   "metadata": {},
   "source": [
    "# 2-1. Error Check - Rank consistency"
   ]
  },
  {
   "cell_type": "code",
   "execution_count": 11,
   "metadata": {
    "scrolled": true
   },
   "outputs": [
    {
     "name": "stdout",
     "output_type": "stream",
     "text": [
      "KR_4318806255\n"
     ]
    }
   ],
   "source": [
    "# Challenger\n",
    "data_cons = chall_game.groupby('gameId')['Ranked'].count().tolist()\n",
    "err_game = []\n",
    "\n",
    "for i in range(len(data_cons)):\n",
    "    if data_cons[i] != 8:\n",
    "        print(chall_game.groupby('gameId')['Ranked'].count().keys()[i])\n",
    "        err_game.append(chall_game.groupby('gameId')['Ranked'].count().keys()[i])"
   ]
  },
  {
   "cell_type": "code",
   "execution_count": 12,
   "metadata": {
    "scrolled": true
   },
   "outputs": [
    {
     "data": {
      "text/plain": [
       "['KR_4318806255']"
      ]
     },
     "execution_count": 12,
     "metadata": {},
     "output_type": "execute_result"
    }
   ],
   "source": [
    "err_game"
   ]
  },
  {
   "cell_type": "markdown",
   "metadata": {},
   "source": [
    "## 2-2. Drop Error game"
   ]
  },
  {
   "cell_type": "code",
   "execution_count": 13,
   "metadata": {},
   "outputs": [
    {
     "data": {
      "text/plain": [
       "Int64Index([24504, 24505, 24506, 24507, 24508, 24509, 24510], dtype='int64')"
      ]
     },
     "execution_count": 13,
     "metadata": {},
     "output_type": "execute_result"
    }
   ],
   "source": [
    "chall_game[chall_game['gameId'] == err_game[0]].index"
   ]
  },
  {
   "cell_type": "code",
   "execution_count": 14,
   "metadata": {},
   "outputs": [
    {
     "data": {
      "text/plain": [
       "5"
      ]
     },
     "execution_count": 14,
     "metadata": {},
     "output_type": "execute_result"
    }
   ],
   "source": [
    "chall_copy =  chall_game.copy()\n",
    "\n",
    "for eg in err_game:\n",
    "    err_data = chall_game[chall_game['gameId'] == eg].index\n",
    "    chall_copy = chall_copy.drop(err_data)\n",
    "\n",
    "len(chall_copy.head())"
   ]
  },
  {
   "cell_type": "markdown",
   "metadata": {},
   "source": [
    "## 3. Analytics\n",
    "### 3-0. Make Classes Synergy, Job Synergy  \n",
    "- Classes = type  \n",
    "- Job = work  "
   ]
  },
  {
   "cell_type": "code",
   "execution_count": 15,
   "metadata": {
    "scrolled": false
   },
   "outputs": [
    {
     "name": "stdout",
     "output_type": "stream",
     "text": [
      "[{'name': 'Celestial',\n",
      "  'sets': [{'max': 3, 'min': 2, 'style': 'bronze'},\n",
      "           {'max': 5, 'min': 4, 'style': 'silver'},\n",
      "           {'min': 6, 'style': 'gold'}]},\n",
      " {'name': 'Chrono',\n",
      "  'sets': [{'max': 3, 'min': 2, 'style': 'bronze'},\n",
      "           {'max': 5, 'min': 4, 'style': 'silver'},\n",
      "           {'min': 6, 'style': 'gold'}]},\n",
      " {'name': 'Cybernetic',\n",
      "  'sets': [{'max': 5, 'min': 3, 'style': 'silver'},\n",
      "           {'min': 6, 'style': 'gold'}]},\n",
      " {'name': 'Dark Star',\n",
      "  'sets': [{'max': 5, 'min': 3, 'style': 'bronze'},\n",
      "           {'max': 8, 'min': 6, 'style': 'gold'},\n",
      "           {'min': 9, 'style': 'chromatic'}]},\n",
      " {'name': 'Mech-Pilot', 'sets': [{'min': 3, 'style': 'gold'}]},\n",
      " {'name': 'Rebel',\n",
      "  'sets': [{'max': 5, 'min': 3, 'style': 'bronze'},\n",
      "           {'max': 8, 'min': 6, 'style': 'gold'},\n",
      "           {'min': 9, 'style': 'chromatic'}]},\n",
      " {'name': 'Space Pirate',\n",
      "  'sets': [{'max': 3, 'min': 2, 'style': 'bronze'},\n",
      "           {'min': 4, 'style': 'gold'}]},\n",
      " {'name': 'Star Guardian',\n",
      "  'sets': [{'max': 5, 'min': 3, 'style': 'bronze'},\n",
      "           {'min': 6, 'style': 'gold'}]},\n",
      " {'name': 'Valkyrie', 'sets': [{'min': 2, 'style': 'gold'}]},\n",
      " {'name': 'Void', 'sets': [{'min': 3, 'style': 'gold'}]}]\n"
     ]
    }
   ],
   "source": [
    "import json\n",
    "from pprint import pprint as pp\n",
    "\n",
    "with open('traits.json') as json_file:\n",
    "    traits_json = json.load(json_file)\n",
    "    \n",
    "origin_list = []\n",
    "class_list = []\n",
    "\n",
    "for trait in traits_json:\n",
    "    if trait['type'] == 'origin':\n",
    "        origin_list.append({'name': trait['name'], 'sets': trait['sets']})\n",
    "#         print(trait['name'])\n",
    "    else:\n",
    "        class_list.append({'name': trait['name'], 'sets': trait['sets']})\n",
    "\n",
    "pp(origin_list)        \n",
    "# pp(class_list)"
   ]
  },
  {
   "cell_type": "code",
   "execution_count": 85,
   "metadata": {
    "scrolled": false
   },
   "outputs": [
    {
     "name": "stdout",
     "output_type": "stream",
     "text": [
      "Astro\n",
      "Battlecast\n",
      "Celestial\n",
      "Chrono\n",
      "Cybernetic\n",
      "Dark Star\n",
      "Mech-Pilot\n",
      "Rebel\n",
      "Space Pirate\n",
      "Star Guardian\n"
     ]
    }
   ],
   "source": [
    "with open('traits_cur.json') as json_file:\n",
    "    traits_json = json.load(json_file)\n",
    "    \n",
    "origin_list = []\n",
    "class_list = []\n",
    "\n",
    "for trait in traits_json:\n",
    "    if trait['type'] == 'origin':\n",
    "        origin_list.append({'name': trait['name'], 'sets': trait['sets']})\n",
    "        print(trait['name'])\n",
    "    else:\n",
    "        class_list.append({'name': trait['name'], 'sets': trait['sets']})"
   ]
  },
  {
   "cell_type": "code",
   "execution_count": 87,
   "metadata": {
    "scrolled": false
   },
   "outputs": [
    {
     "name": "stdout",
     "output_type": "stream",
     "text": [
      "origin list\n",
      "--------------------\n",
      "[{'name': 'Astro', 'sets': [{'min': 3, 'style': 'gold'}]},\n",
      " {'name': 'Battlecast',\n",
      "  'sets': [{'max': 3, 'min': 2, 'style': 'bronze'},\n",
      "           {'max': 5, 'min': 4, 'style': 'silver'},\n",
      "           {'min': 6, 'style': 'gold'}]},\n",
      " {'name': 'Celestial',\n",
      "  'sets': [{'max': 3, 'min': 2, 'style': 'bronze'},\n",
      "           {'max': 5, 'min': 4, 'style': 'silver'},\n",
      "           {'min': 6, 'style': 'gold'}]},\n",
      " {'name': 'Chrono',\n",
      "  'sets': [{'max': 3, 'min': 2, 'style': 'bronze'},\n",
      "           {'max': 5, 'min': 4, 'style': 'silver'},\n",
      "           {'min': 6, 'style': 'gold'}]},\n",
      " {'name': 'Cybernetic',\n",
      "  'sets': [{'max': 5, 'min': 3, 'style': 'silver'},\n",
      "           {'min': 6, 'style': 'gold'}]},\n",
      " {'name': 'Dark Star',\n",
      "  'sets': [{'max': 5, 'min': 3, 'style': 'bronze'},\n",
      "           {'max': 8, 'min': 6, 'style': 'gold'},\n",
      "           {'min': 9, 'style': 'chromatic'}]},\n",
      " {'name': 'Mech-Pilot', 'sets': [{'min': 3, 'style': 'gold'}]},\n",
      " {'name': 'Rebel',\n",
      "  'sets': [{'max': 5, 'min': 3, 'style': 'bronze'},\n",
      "           {'max': 8, 'min': 6, 'style': 'gold'},\n",
      "           {'min': 9, 'style': 'chromatic'}]},\n",
      " {'name': 'Space Pirate',\n",
      "  'sets': [{'max': 3, 'min': 2, 'style': 'bronze'},\n",
      "           {'min': 4, 'style': 'gold'}]},\n",
      " {'name': 'Star Guardian',\n",
      "  'sets': [{'max': 5, 'min': 3, 'style': 'bronze'},\n",
      "           {'min': 6, 'style': 'gold'}]}]\n"
     ]
    }
   ],
   "source": [
    "print('origin list')\n",
    "print('-'*20)\n",
    "pp(origin_list)"
   ]
  },
  {
   "cell_type": "code",
   "execution_count": 187,
   "metadata": {},
   "outputs": [
    {
     "name": "stdout",
     "output_type": "stream",
     "text": [
      "class list\n",
      "--------------------\n",
      "[{'name': 'Blademaster',\n",
      "  'sets': [{'max': 5, 'min': 3, 'style': 'bronze'},\n",
      "           {'max': 8, 'min': 6, 'style': 'gold'},\n",
      "           {'min': 9, 'style': 'chromatic'}]},\n",
      " {'name': 'Blaster',\n",
      "  'sets': [{'max': 3, 'min': 2, 'style': 'bronze'},\n",
      "           {'min': 4, 'style': 'gold'}]},\n",
      " {'name': 'Brawler',\n",
      "  'sets': [{'max': 3, 'min': 2, 'style': 'bronze'},\n",
      "           {'min': 4, 'style': 'gold'}]},\n",
      " {'name': 'Demolitionist', 'sets': [{'min': 2, 'style': 'gold'}]},\n",
      " {'name': 'Infiltrator',\n",
      "  'sets': [{'max': 3, 'min': 2, 'style': 'bronze'},\n",
      "           {'max': 5, 'min': 4, 'style': 'gold'},\n",
      "           {'min': 6, 'style': 'chromatic'}]},\n",
      " {'name': 'Mana-Reaver',\n",
      "  'sets': [{'max': 3, 'min': 2, 'style': 'bronze'},\n",
      "           {'min': 4, 'style': 'gold'}]},\n",
      " {'name': 'Mercenary', 'sets': [{'min': 1, 'style': 'gold'}]},\n",
      " {'name': 'Mystic',\n",
      "  'sets': [{'max': 3, 'min': 2, 'style': 'bronze'},\n",
      "           {'min': 4, 'style': 'gold'}]},\n",
      " {'name': 'Protector',\n",
      "  'sets': [{'max': 3, 'min': 2, 'style': 'bronze'},\n",
      "           {'max': 5, 'min': 4, 'style': 'gold'},\n",
      "           {'min': 6, 'style': 'chromatic'}]},\n",
      " {'name': 'Sniper', 'sets': [{'min': 2, 'style': 'gold'}]},\n",
      " {'name': 'Sorcerer',\n",
      "  'sets': [{'max': 3, 'min': 2, 'style': 'bronze'},\n",
      "           {'max': 5, 'min': 4, 'style': 'silver'},\n",
      "           {'max': 7, 'min': 6, 'style': 'gold'},\n",
      "           {'min': 8, 'style': 'chromatic'}]},\n",
      " {'name': 'Starship', 'sets': [{'min': 1, 'style': 'gold'}]},\n",
      " {'name': 'Vanguard',\n",
      "  'sets': [{'max': 3, 'min': 2, 'style': 'bronze'},\n",
      "           {'min': 4, 'style': 'gold'}]}]\n"
     ]
    }
   ],
   "source": [
    "print('class list')\n",
    "print('-'*20)\n",
    "pp(class_list)"
   ]
  },
  {
   "cell_type": "code",
   "execution_count": 16,
   "metadata": {
    "scrolled": true
   },
   "outputs": [
    {
     "data": {
      "text/plain": [
       "['Space Pirate',\n",
       " 'Star Guardian',\n",
       " 'Celestial',\n",
       " 'Dark Star',\n",
       " 'Mech-Pilot',\n",
       " 'Cybernetic',\n",
       " 'Rebel',\n",
       " 'Valkyrie',\n",
       " 'Void',\n",
       " 'Chrono']"
      ]
     },
     "execution_count": 16,
     "metadata": {},
     "output_type": "execute_result"
    }
   ],
   "source": [
    "type_list = champ['origin'].unique().tolist()\n",
    "type_list"
   ]
  },
  {
   "cell_type": "code",
   "execution_count": 17,
   "metadata": {},
   "outputs": [
    {
     "data": {
      "text/html": [
       "<div>\n",
       "<style scoped>\n",
       "    .dataframe tbody tr th:only-of-type {\n",
       "        vertical-align: middle;\n",
       "    }\n",
       "\n",
       "    .dataframe tbody tr th {\n",
       "        vertical-align: top;\n",
       "    }\n",
       "\n",
       "    .dataframe thead th {\n",
       "        text-align: right;\n",
       "    }\n",
       "</style>\n",
       "<table border=\"1\" class=\"dataframe\">\n",
       "  <thead>\n",
       "    <tr style=\"text-align: right;\">\n",
       "      <th></th>\n",
       "      <th>type</th>\n",
       "    </tr>\n",
       "  </thead>\n",
       "  <tbody>\n",
       "    <tr>\n",
       "      <th>0</th>\n",
       "      <td>SpacePirate</td>\n",
       "    </tr>\n",
       "    <tr>\n",
       "      <th>1</th>\n",
       "      <td>StarGuardian</td>\n",
       "    </tr>\n",
       "    <tr>\n",
       "      <th>2</th>\n",
       "      <td>Celestial</td>\n",
       "    </tr>\n",
       "    <tr>\n",
       "      <th>3</th>\n",
       "      <td>DarkStar</td>\n",
       "    </tr>\n",
       "    <tr>\n",
       "      <th>4</th>\n",
       "      <td>Mech-Pilot</td>\n",
       "    </tr>\n",
       "    <tr>\n",
       "      <th>5</th>\n",
       "      <td>Cybernetic</td>\n",
       "    </tr>\n",
       "    <tr>\n",
       "      <th>6</th>\n",
       "      <td>Rebel</td>\n",
       "    </tr>\n",
       "    <tr>\n",
       "      <th>7</th>\n",
       "      <td>Valkyrie</td>\n",
       "    </tr>\n",
       "    <tr>\n",
       "      <th>8</th>\n",
       "      <td>Void</td>\n",
       "    </tr>\n",
       "    <tr>\n",
       "      <th>9</th>\n",
       "      <td>Chrono</td>\n",
       "    </tr>\n",
       "  </tbody>\n",
       "</table>\n",
       "</div>"
      ],
      "text/plain": [
       "           type\n",
       "0   SpacePirate\n",
       "1  StarGuardian\n",
       "2     Celestial\n",
       "3      DarkStar\n",
       "4    Mech-Pilot\n",
       "5    Cybernetic\n",
       "6         Rebel\n",
       "7      Valkyrie\n",
       "8          Void\n",
       "9        Chrono"
      ]
     },
     "execution_count": 17,
     "metadata": {},
     "output_type": "execute_result"
    }
   ],
   "source": [
    "# space remove & type_list to DataFrame\n",
    "for idx, tmp_type in enumerate(type_list):\n",
    "    tmp_res = ''\n",
    "    for s in tmp_type:\n",
    "        if s==' ':\n",
    "            continue\n",
    "        tmp_res += s\n",
    "    type_list[idx] = tmp_res\n",
    "    \n",
    "type_df = pd.DataFrame()\n",
    "type_df['type'] = type_list\n",
    "type_df"
   ]
  },
  {
   "cell_type": "code",
   "execution_count": 18,
   "metadata": {
    "scrolled": true
   },
   "outputs": [
    {
     "data": {
      "text/plain": [
       "0     SpacePirate\n",
       "1    StarGuardian\n",
       "2       Celestial\n",
       "3        DarkStar\n",
       "4      Mech-Pilot\n",
       "5      Cybernetic\n",
       "6           Rebel\n",
       "7        Valkyrie\n",
       "8            Void\n",
       "9          Chrono\n",
       "Name: type, dtype: object"
      ]
     },
     "execution_count": 18,
     "metadata": {},
     "output_type": "execute_result"
    }
   ],
   "source": [
    "type_df['type']"
   ]
  },
  {
   "cell_type": "markdown",
   "metadata": {},
   "source": [
    "### 3-1. Get Synergies | origin(job, work) & class(type)"
   ]
  },
  {
   "cell_type": "code",
   "execution_count": 19,
   "metadata": {
    "scrolled": true
   },
   "outputs": [],
   "source": [
    "type_df['1st'] = [2,3,2,3,3,3,3,2,3,2]\n",
    "type_df['2nd'] = [4,6,4,6,np.nan,6,6,np.nan,np.nan,4]\n",
    "type_df['3rd'] = [np.nan,np.nan,6,9,np.nan,np.nan,9,np.nan,np.nan,6]\n",
    "\n",
    "\n",
    "#-----------------\n",
    "#Suited Match Game data combination names\n",
    "# type_df['type'].iloc[4] = 'MechPilot'\n",
    "# type_df['type'].iloc[0] = 'SpacePirate'\n",
    "# type_df['type'].iloc[8] = 'Set3_Void'\n",
    "# type_df['type'].iloc[2] = 'Set3_Celestial'\n",
    "# type_df['type'].iloc[1] = 'StarGuardian'\n",
    "# type_df['type'].iloc[3] = 'DarkStar'"
   ]
  },
  {
   "cell_type": "code",
   "execution_count": 20,
   "metadata": {},
   "outputs": [
    {
     "data": {
      "text/html": [
       "<div>\n",
       "<style scoped>\n",
       "    .dataframe tbody tr th:only-of-type {\n",
       "        vertical-align: middle;\n",
       "    }\n",
       "\n",
       "    .dataframe tbody tr th {\n",
       "        vertical-align: top;\n",
       "    }\n",
       "\n",
       "    .dataframe thead th {\n",
       "        text-align: right;\n",
       "    }\n",
       "</style>\n",
       "<table border=\"1\" class=\"dataframe\">\n",
       "  <thead>\n",
       "    <tr style=\"text-align: right;\">\n",
       "      <th></th>\n",
       "      <th>type</th>\n",
       "      <th>1st</th>\n",
       "      <th>2nd</th>\n",
       "      <th>3rd</th>\n",
       "    </tr>\n",
       "  </thead>\n",
       "  <tbody>\n",
       "    <tr>\n",
       "      <th>0</th>\n",
       "      <td>SpacePirate</td>\n",
       "      <td>2</td>\n",
       "      <td>4.0</td>\n",
       "      <td>NaN</td>\n",
       "    </tr>\n",
       "    <tr>\n",
       "      <th>1</th>\n",
       "      <td>StarGuardian</td>\n",
       "      <td>3</td>\n",
       "      <td>6.0</td>\n",
       "      <td>NaN</td>\n",
       "    </tr>\n",
       "    <tr>\n",
       "      <th>2</th>\n",
       "      <td>Celestial</td>\n",
       "      <td>2</td>\n",
       "      <td>4.0</td>\n",
       "      <td>6.0</td>\n",
       "    </tr>\n",
       "    <tr>\n",
       "      <th>3</th>\n",
       "      <td>DarkStar</td>\n",
       "      <td>3</td>\n",
       "      <td>6.0</td>\n",
       "      <td>9.0</td>\n",
       "    </tr>\n",
       "    <tr>\n",
       "      <th>4</th>\n",
       "      <td>Mech-Pilot</td>\n",
       "      <td>3</td>\n",
       "      <td>NaN</td>\n",
       "      <td>NaN</td>\n",
       "    </tr>\n",
       "    <tr>\n",
       "      <th>5</th>\n",
       "      <td>Cybernetic</td>\n",
       "      <td>3</td>\n",
       "      <td>6.0</td>\n",
       "      <td>NaN</td>\n",
       "    </tr>\n",
       "    <tr>\n",
       "      <th>6</th>\n",
       "      <td>Rebel</td>\n",
       "      <td>3</td>\n",
       "      <td>6.0</td>\n",
       "      <td>9.0</td>\n",
       "    </tr>\n",
       "    <tr>\n",
       "      <th>7</th>\n",
       "      <td>Valkyrie</td>\n",
       "      <td>2</td>\n",
       "      <td>NaN</td>\n",
       "      <td>NaN</td>\n",
       "    </tr>\n",
       "    <tr>\n",
       "      <th>8</th>\n",
       "      <td>Void</td>\n",
       "      <td>3</td>\n",
       "      <td>NaN</td>\n",
       "      <td>NaN</td>\n",
       "    </tr>\n",
       "    <tr>\n",
       "      <th>9</th>\n",
       "      <td>Chrono</td>\n",
       "      <td>2</td>\n",
       "      <td>4.0</td>\n",
       "      <td>6.0</td>\n",
       "    </tr>\n",
       "  </tbody>\n",
       "</table>\n",
       "</div>"
      ],
      "text/plain": [
       "           type  1st  2nd  3rd\n",
       "0   SpacePirate    2  4.0  NaN\n",
       "1  StarGuardian    3  6.0  NaN\n",
       "2     Celestial    2  4.0  6.0\n",
       "3      DarkStar    3  6.0  9.0\n",
       "4    Mech-Pilot    3  NaN  NaN\n",
       "5    Cybernetic    3  6.0  NaN\n",
       "6         Rebel    3  6.0  9.0\n",
       "7      Valkyrie    2  NaN  NaN\n",
       "8          Void    3  NaN  NaN\n",
       "9        Chrono    2  4.0  6.0"
      ]
     },
     "execution_count": 20,
     "metadata": {},
     "output_type": "execute_result"
    }
   ],
   "source": [
    "type_df"
   ]
  },
  {
   "cell_type": "code",
   "execution_count": 22,
   "metadata": {},
   "outputs": [],
   "source": [
    "# Job\n",
    "work = []\n",
    "for i in champ['class'].tolist():\n",
    "    work0 = i.split(',')\n",
    "    for j in work0:\n",
    "        work.append(''.join(re.findall('[a-zA-Z]',j)))\n",
    "        \n",
    "work_df = pd.DataFrame()\n",
    "\n",
    "#------------\n",
    "#for unique job name\n",
    "work_df['work'] = list(set(work))[:7] + list(set(work))[8:]\n",
    "\n",
    "work_df['1st'] = [2,2,3,2,2,1,2,2,2,1,2,2,2]\n",
    "work_df['2nd'] = [4,4,6,4,4,np.nan,np.nan,np.nan,4,np.nan,4,np.nan,4]\n",
    "work_df['3rd'] = [np.nan,6,9,6,np.nan,np.nan,np.nan,np.nan,6,np.nan,np.nan,np.nan,np.nan]\n",
    "work_df['4th'] = [np.nan,8,np.nan,np.nan,np.nan,np.nan,np.nan,np.nan,np.nan,np.nan,np.nan,np.nan,np.nan]\n",
    "\n",
    "# work_df['work'].iloc[1] = 'Set3_Sorcerer'\n",
    "# work_df['work'].iloc[2] = 'Set3_Blademaster'\n",
    "# work_df['work'].iloc[4] = 'Set3_Mystic'\n",
    "# work_df['work'].iloc[3] = 'Infiltrator'\n",
    "# work_df['work'].iloc[10] = 'Set3_Brawler'"
   ]
  },
  {
   "cell_type": "code",
   "execution_count": 23,
   "metadata": {
    "scrolled": false
   },
   "outputs": [
    {
     "name": "stdout",
     "output_type": "stream",
     "text": [
      "class list\n",
      "--------------------\n",
      "['Blademaster',\n",
      " 'Blaster',\n",
      " 'Brawler',\n",
      " 'Demolitionist',\n",
      " 'Infiltrator',\n",
      " 'Mana-Reaver',\n",
      " 'Mercenary',\n",
      " 'Mystic',\n",
      " 'Protector',\n",
      " 'Sniper',\n",
      " 'Sorcerer',\n",
      " 'Starship',\n",
      " 'Vanguard']\n"
     ]
    }
   ],
   "source": [
    "print('class list')\n",
    "print('-'*20)\n",
    "names = [c['name'] for c in class_list]\n",
    "pp(names)"
   ]
  },
  {
   "cell_type": "code",
   "execution_count": 24,
   "metadata": {
    "scrolled": false
   },
   "outputs": [
    {
     "data": {
      "text/html": [
       "<div>\n",
       "<style scoped>\n",
       "    .dataframe tbody tr th:only-of-type {\n",
       "        vertical-align: middle;\n",
       "    }\n",
       "\n",
       "    .dataframe tbody tr th {\n",
       "        vertical-align: top;\n",
       "    }\n",
       "\n",
       "    .dataframe thead th {\n",
       "        text-align: right;\n",
       "    }\n",
       "</style>\n",
       "<table border=\"1\" class=\"dataframe\">\n",
       "  <thead>\n",
       "    <tr style=\"text-align: right;\">\n",
       "      <th></th>\n",
       "      <th>work</th>\n",
       "      <th>1st</th>\n",
       "      <th>2nd</th>\n",
       "      <th>3rd</th>\n",
       "      <th>4th</th>\n",
       "    </tr>\n",
       "  </thead>\n",
       "  <tbody>\n",
       "    <tr>\n",
       "      <th>0</th>\n",
       "      <td>Demolitionist</td>\n",
       "      <td>2</td>\n",
       "      <td>4.0</td>\n",
       "      <td>NaN</td>\n",
       "      <td>NaN</td>\n",
       "    </tr>\n",
       "    <tr>\n",
       "      <th>1</th>\n",
       "      <td>Mercenary</td>\n",
       "      <td>2</td>\n",
       "      <td>4.0</td>\n",
       "      <td>6.0</td>\n",
       "      <td>8.0</td>\n",
       "    </tr>\n",
       "    <tr>\n",
       "      <th>2</th>\n",
       "      <td>Starship</td>\n",
       "      <td>3</td>\n",
       "      <td>6.0</td>\n",
       "      <td>9.0</td>\n",
       "      <td>NaN</td>\n",
       "    </tr>\n",
       "    <tr>\n",
       "      <th>3</th>\n",
       "      <td>Vanguard</td>\n",
       "      <td>2</td>\n",
       "      <td>4.0</td>\n",
       "      <td>6.0</td>\n",
       "      <td>NaN</td>\n",
       "    </tr>\n",
       "    <tr>\n",
       "      <th>4</th>\n",
       "      <td>ManaReaver</td>\n",
       "      <td>2</td>\n",
       "      <td>4.0</td>\n",
       "      <td>NaN</td>\n",
       "      <td>NaN</td>\n",
       "    </tr>\n",
       "    <tr>\n",
       "      <th>5</th>\n",
       "      <td>Sniper</td>\n",
       "      <td>1</td>\n",
       "      <td>NaN</td>\n",
       "      <td>NaN</td>\n",
       "      <td>NaN</td>\n",
       "    </tr>\n",
       "    <tr>\n",
       "      <th>6</th>\n",
       "      <td>Sorcerer</td>\n",
       "      <td>2</td>\n",
       "      <td>NaN</td>\n",
       "      <td>NaN</td>\n",
       "      <td>NaN</td>\n",
       "    </tr>\n",
       "    <tr>\n",
       "      <th>7</th>\n",
       "      <td>Mystic</td>\n",
       "      <td>2</td>\n",
       "      <td>NaN</td>\n",
       "      <td>NaN</td>\n",
       "      <td>NaN</td>\n",
       "    </tr>\n",
       "    <tr>\n",
       "      <th>8</th>\n",
       "      <td>Blademaster</td>\n",
       "      <td>2</td>\n",
       "      <td>4.0</td>\n",
       "      <td>6.0</td>\n",
       "      <td>NaN</td>\n",
       "    </tr>\n",
       "    <tr>\n",
       "      <th>9</th>\n",
       "      <td>Blaster</td>\n",
       "      <td>1</td>\n",
       "      <td>NaN</td>\n",
       "      <td>NaN</td>\n",
       "      <td>NaN</td>\n",
       "    </tr>\n",
       "    <tr>\n",
       "      <th>10</th>\n",
       "      <td>Infiltrator</td>\n",
       "      <td>2</td>\n",
       "      <td>4.0</td>\n",
       "      <td>NaN</td>\n",
       "      <td>NaN</td>\n",
       "    </tr>\n",
       "    <tr>\n",
       "      <th>11</th>\n",
       "      <td>Infiltrato</td>\n",
       "      <td>2</td>\n",
       "      <td>NaN</td>\n",
       "      <td>NaN</td>\n",
       "      <td>NaN</td>\n",
       "    </tr>\n",
       "  </tbody>\n",
       "</table>\n",
       "</div>"
      ],
      "text/plain": [
       "             work  1st  2nd  3rd  4th\n",
       "0   Demolitionist    2  4.0  NaN  NaN\n",
       "1       Mercenary    2  4.0  6.0  8.0\n",
       "2        Starship    3  6.0  9.0  NaN\n",
       "3        Vanguard    2  4.0  6.0  NaN\n",
       "4      ManaReaver    2  4.0  NaN  NaN\n",
       "5          Sniper    1  NaN  NaN  NaN\n",
       "6        Sorcerer    2  NaN  NaN  NaN\n",
       "7          Mystic    2  NaN  NaN  NaN\n",
       "8     Blademaster    2  4.0  6.0  NaN\n",
       "9         Blaster    1  NaN  NaN  NaN\n",
       "10    Infiltrator    2  4.0  NaN  NaN\n",
       "11     Infiltrato    2  NaN  NaN  NaN"
      ]
     },
     "execution_count": 24,
     "metadata": {},
     "output_type": "execute_result"
    }
   ],
   "source": [
    "work_df[:12]"
   ]
  },
  {
   "cell_type": "markdown",
   "metadata": {},
   "source": [
    "- null : if there are no more synergies"
   ]
  },
  {
   "cell_type": "markdown",
   "metadata": {},
   "source": [
    "### 3-1. Game Duration Check"
   ]
  },
  {
   "cell_type": "code",
   "execution_count": 38,
   "metadata": {
    "scrolled": false
   },
   "outputs": [
    {
     "name": "stdout",
     "output_type": "stream",
     "text": [
      "challenger game Duration : 2159.37281575677\n"
     ]
    }
   ],
   "source": [
    "print('challenger game Duration :', chall_game['gameDuration'].mean())"
   ]
  },
  {
   "cell_type": "code",
   "execution_count": 147,
   "metadata": {},
   "outputs": [
    {
     "data": {
      "text/html": [
       "<div>\n",
       "<style scoped>\n",
       "    .dataframe tbody tr th:only-of-type {\n",
       "        vertical-align: middle;\n",
       "    }\n",
       "\n",
       "    .dataframe tbody tr th {\n",
       "        vertical-align: top;\n",
       "    }\n",
       "\n",
       "    .dataframe thead th {\n",
       "        text-align: right;\n",
       "    }\n",
       "</style>\n",
       "<table border=\"1\" class=\"dataframe\">\n",
       "  <thead>\n",
       "    <tr style=\"text-align: right;\">\n",
       "      <th></th>\n",
       "      <th>gameId</th>\n",
       "      <th>gameDuration</th>\n",
       "      <th>level</th>\n",
       "      <th>lastRound</th>\n",
       "      <th>Ranked</th>\n",
       "      <th>ingameDuration</th>\n",
       "      <th>combination</th>\n",
       "      <th>champion</th>\n",
       "    </tr>\n",
       "  </thead>\n",
       "  <tbody>\n",
       "    <tr>\n",
       "      <th>0</th>\n",
       "      <td>KR_4247538593</td>\n",
       "      <td>2142.470703</td>\n",
       "      <td>8</td>\n",
       "      <td>35</td>\n",
       "      <td>1</td>\n",
       "      <td>2134.272217</td>\n",
       "      <td>{'DarkStar': 2, 'Protector': 4, 'Rebel': 1, 'S...</td>\n",
       "      <td>{'JarvanIV': {'items': [27], 'star': 3}, 'Sona...</td>\n",
       "    </tr>\n",
       "    <tr>\n",
       "      <th>1</th>\n",
       "      <td>KR_4247538593</td>\n",
       "      <td>2142.470703</td>\n",
       "      <td>9</td>\n",
       "      <td>35</td>\n",
       "      <td>2</td>\n",
       "      <td>2134.272217</td>\n",
       "      <td>{'Blaster': 2, 'Mercenary': 1, 'Rebel': 6, 'Se...</td>\n",
       "      <td>{'Malphite': {'items': [7], 'star': 2}, 'Yasuo...</td>\n",
       "    </tr>\n",
       "    <tr>\n",
       "      <th>2</th>\n",
       "      <td>KR_4247538593</td>\n",
       "      <td>2142.470703</td>\n",
       "      <td>8</td>\n",
       "      <td>34</td>\n",
       "      <td>3</td>\n",
       "      <td>2073.459229</td>\n",
       "      <td>{'Cybernetic': 1, 'DarkStar': 3, 'Demolitionis...</td>\n",
       "      <td>{'KaiSa': {'items': [99, 2, 23], 'star': 2}, '...</td>\n",
       "    </tr>\n",
       "    <tr>\n",
       "      <th>3</th>\n",
       "      <td>KR_4247538593</td>\n",
       "      <td>2142.470703</td>\n",
       "      <td>8</td>\n",
       "      <td>33</td>\n",
       "      <td>4</td>\n",
       "      <td>1998.146729</td>\n",
       "      <td>{'Blaster': 1, 'Cybernetic': 1, 'DarkStar': 1,...</td>\n",
       "      <td>{'KaiSa': {'items': [44, 37], 'star': 2}, 'Ann...</td>\n",
       "    </tr>\n",
       "    <tr>\n",
       "      <th>4</th>\n",
       "      <td>KR_4247538593</td>\n",
       "      <td>2142.470703</td>\n",
       "      <td>9</td>\n",
       "      <td>33</td>\n",
       "      <td>5</td>\n",
       "      <td>1986.443237</td>\n",
       "      <td>{'Blaster': 2, 'Demolitionist': 2, 'Mercenary'...</td>\n",
       "      <td>{'Ziggs': {'items': [], 'star': 1}, 'Yasuo': {...</td>\n",
       "    </tr>\n",
       "  </tbody>\n",
       "</table>\n",
       "</div>"
      ],
      "text/plain": [
       "          gameId  gameDuration  level  lastRound  Ranked  ingameDuration  \\\n",
       "0  KR_4247538593   2142.470703      8         35       1     2134.272217   \n",
       "1  KR_4247538593   2142.470703      9         35       2     2134.272217   \n",
       "2  KR_4247538593   2142.470703      8         34       3     2073.459229   \n",
       "3  KR_4247538593   2142.470703      8         33       4     1998.146729   \n",
       "4  KR_4247538593   2142.470703      9         33       5     1986.443237   \n",
       "\n",
       "                                         combination  \\\n",
       "0  {'DarkStar': 2, 'Protector': 4, 'Rebel': 1, 'S...   \n",
       "1  {'Blaster': 2, 'Mercenary': 1, 'Rebel': 6, 'Se...   \n",
       "2  {'Cybernetic': 1, 'DarkStar': 3, 'Demolitionis...   \n",
       "3  {'Blaster': 1, 'Cybernetic': 1, 'DarkStar': 1,...   \n",
       "4  {'Blaster': 2, 'Demolitionist': 2, 'Mercenary'...   \n",
       "\n",
       "                                            champion  \n",
       "0  {'JarvanIV': {'items': [27], 'star': 3}, 'Sona...  \n",
       "1  {'Malphite': {'items': [7], 'star': 2}, 'Yasuo...  \n",
       "2  {'KaiSa': {'items': [99, 2, 23], 'star': 2}, '...  \n",
       "3  {'KaiSa': {'items': [44, 37], 'star': 2}, 'Ann...  \n",
       "4  {'Ziggs': {'items': [], 'star': 1}, 'Yasuo': {...  "
      ]
     },
     "execution_count": 147,
     "metadata": {},
     "output_type": "execute_result"
    }
   ],
   "source": [
    "chall_copy.head()"
   ]
  },
  {
   "cell_type": "code",
   "execution_count": 155,
   "metadata": {
    "scrolled": true
   },
   "outputs": [
    {
     "data": {
      "text/html": [
       "<div>\n",
       "<style scoped>\n",
       "    .dataframe tbody tr th:only-of-type {\n",
       "        vertical-align: middle;\n",
       "    }\n",
       "\n",
       "    .dataframe tbody tr th {\n",
       "        vertical-align: top;\n",
       "    }\n",
       "\n",
       "    .dataframe thead th {\n",
       "        text-align: right;\n",
       "    }\n",
       "</style>\n",
       "<table border=\"1\" class=\"dataframe\">\n",
       "  <thead>\n",
       "    <tr style=\"text-align: right;\">\n",
       "      <th></th>\n",
       "      <th>gameId</th>\n",
       "      <th>gameDuration</th>\n",
       "      <th>level</th>\n",
       "      <th>lastRound</th>\n",
       "      <th>ingameDuration</th>\n",
       "      <th>combination</th>\n",
       "      <th>champion</th>\n",
       "    </tr>\n",
       "    <tr>\n",
       "      <th>Ranked</th>\n",
       "      <th></th>\n",
       "      <th></th>\n",
       "      <th></th>\n",
       "      <th></th>\n",
       "      <th></th>\n",
       "      <th></th>\n",
       "      <th></th>\n",
       "    </tr>\n",
       "  </thead>\n",
       "  <tbody>\n",
       "    <tr>\n",
       "      <th>1</th>\n",
       "      <td>9999</td>\n",
       "      <td>9999</td>\n",
       "      <td>9999</td>\n",
       "      <td>9999</td>\n",
       "      <td>9999</td>\n",
       "      <td>9999</td>\n",
       "      <td>9999</td>\n",
       "    </tr>\n",
       "    <tr>\n",
       "      <th>2</th>\n",
       "      <td>9999</td>\n",
       "      <td>9999</td>\n",
       "      <td>9999</td>\n",
       "      <td>9999</td>\n",
       "      <td>9999</td>\n",
       "      <td>9999</td>\n",
       "      <td>9999</td>\n",
       "    </tr>\n",
       "    <tr>\n",
       "      <th>3</th>\n",
       "      <td>9999</td>\n",
       "      <td>9999</td>\n",
       "      <td>9999</td>\n",
       "      <td>9999</td>\n",
       "      <td>9999</td>\n",
       "      <td>9999</td>\n",
       "      <td>9999</td>\n",
       "    </tr>\n",
       "    <tr>\n",
       "      <th>4</th>\n",
       "      <td>9999</td>\n",
       "      <td>9999</td>\n",
       "      <td>9999</td>\n",
       "      <td>9999</td>\n",
       "      <td>9999</td>\n",
       "      <td>9999</td>\n",
       "      <td>9999</td>\n",
       "    </tr>\n",
       "    <tr>\n",
       "      <th>5</th>\n",
       "      <td>9999</td>\n",
       "      <td>9999</td>\n",
       "      <td>9999</td>\n",
       "      <td>9999</td>\n",
       "      <td>9999</td>\n",
       "      <td>9999</td>\n",
       "      <td>9999</td>\n",
       "    </tr>\n",
       "  </tbody>\n",
       "</table>\n",
       "</div>"
      ],
      "text/plain": [
       "        gameId  gameDuration  level  lastRound  ingameDuration  combination  \\\n",
       "Ranked                                                                        \n",
       "1         9999          9999   9999       9999            9999         9999   \n",
       "2         9999          9999   9999       9999            9999         9999   \n",
       "3         9999          9999   9999       9999            9999         9999   \n",
       "4         9999          9999   9999       9999            9999         9999   \n",
       "5         9999          9999   9999       9999            9999         9999   \n",
       "\n",
       "        champion  \n",
       "Ranked            \n",
       "1           9999  \n",
       "2           9999  \n",
       "3           9999  \n",
       "4           9999  \n",
       "5           9999  "
      ]
     },
     "execution_count": 155,
     "metadata": {},
     "output_type": "execute_result"
    }
   ],
   "source": [
    "chall_cnt_group_df = chall_copy.groupby('Ranked').count()\n",
    "chall_cnt_group_df.head()"
   ]
  },
  {
   "cell_type": "code",
   "execution_count": 157,
   "metadata": {
    "scrolled": true
   },
   "outputs": [
    {
     "data": {
      "text/html": [
       "<div>\n",
       "<style scoped>\n",
       "    .dataframe tbody tr th:only-of-type {\n",
       "        vertical-align: middle;\n",
       "    }\n",
       "\n",
       "    .dataframe tbody tr th {\n",
       "        vertical-align: top;\n",
       "    }\n",
       "\n",
       "    .dataframe thead th {\n",
       "        text-align: right;\n",
       "    }\n",
       "</style>\n",
       "<table border=\"1\" class=\"dataframe\">\n",
       "  <thead>\n",
       "    <tr style=\"text-align: right;\">\n",
       "      <th></th>\n",
       "      <th>gameDuration</th>\n",
       "      <th>level</th>\n",
       "      <th>lastRound</th>\n",
       "      <th>ingameDuration</th>\n",
       "    </tr>\n",
       "    <tr>\n",
       "      <th>Ranked</th>\n",
       "      <th></th>\n",
       "      <th></th>\n",
       "      <th></th>\n",
       "      <th></th>\n",
       "    </tr>\n",
       "  </thead>\n",
       "  <tbody>\n",
       "    <tr>\n",
       "      <th>1</th>\n",
       "      <td>2.159154e+07</td>\n",
       "      <td>83705</td>\n",
       "      <td>387975</td>\n",
       "      <td>2.150882e+07</td>\n",
       "    </tr>\n",
       "    <tr>\n",
       "      <th>2</th>\n",
       "      <td>2.159154e+07</td>\n",
       "      <td>82907</td>\n",
       "      <td>387975</td>\n",
       "      <td>2.150882e+07</td>\n",
       "    </tr>\n",
       "    <tr>\n",
       "      <th>3</th>\n",
       "      <td>2.159154e+07</td>\n",
       "      <td>81269</td>\n",
       "      <td>364446</td>\n",
       "      <td>2.035325e+07</td>\n",
       "    </tr>\n",
       "    <tr>\n",
       "      <th>4</th>\n",
       "      <td>2.159154e+07</td>\n",
       "      <td>79910</td>\n",
       "      <td>346308</td>\n",
       "      <td>1.940715e+07</td>\n",
       "    </tr>\n",
       "    <tr>\n",
       "      <th>5</th>\n",
       "      <td>2.159154e+07</td>\n",
       "      <td>78695</td>\n",
       "      <td>331906</td>\n",
       "      <td>1.861001e+07</td>\n",
       "    </tr>\n",
       "    <tr>\n",
       "      <th>6</th>\n",
       "      <td>2.159154e+07</td>\n",
       "      <td>77284</td>\n",
       "      <td>315516</td>\n",
       "      <td>1.769661e+07</td>\n",
       "    </tr>\n",
       "    <tr>\n",
       "      <th>7</th>\n",
       "      <td>2.159154e+07</td>\n",
       "      <td>75416</td>\n",
       "      <td>296275</td>\n",
       "      <td>1.662996e+07</td>\n",
       "    </tr>\n",
       "    <tr>\n",
       "      <th>8</th>\n",
       "      <td>2.159154e+07</td>\n",
       "      <td>72185</td>\n",
       "      <td>269446</td>\n",
       "      <td>1.507067e+07</td>\n",
       "    </tr>\n",
       "  </tbody>\n",
       "</table>\n",
       "</div>"
      ],
      "text/plain": [
       "        gameDuration  level  lastRound  ingameDuration\n",
       "Ranked                                                \n",
       "1       2.159154e+07  83705     387975    2.150882e+07\n",
       "2       2.159154e+07  82907     387975    2.150882e+07\n",
       "3       2.159154e+07  81269     364446    2.035325e+07\n",
       "4       2.159154e+07  79910     346308    1.940715e+07\n",
       "5       2.159154e+07  78695     331906    1.861001e+07\n",
       "6       2.159154e+07  77284     315516    1.769661e+07\n",
       "7       2.159154e+07  75416     296275    1.662996e+07\n",
       "8       2.159154e+07  72185     269446    1.507067e+07"
      ]
     },
     "execution_count": 157,
     "metadata": {},
     "output_type": "execute_result"
    }
   ],
   "source": [
    "chall_sum_group_df = chall_copy.groupby('Ranked').sum()\n",
    "chall_sum_group_df"
   ]
  },
  {
   "cell_type": "code",
   "execution_count": 166,
   "metadata": {},
   "outputs": [
    {
     "data": {
      "text/plain": [
       "Ranked\n",
       "1    2151.097319\n",
       "2    2151.097319\n",
       "3    2035.528828\n",
       "4    1940.909255\n",
       "5    1861.186653\n",
       "6    1769.837623\n",
       "7    1663.162267\n",
       "8    1507.217531\n",
       "Name: ingameDuration, dtype: float64"
      ]
     },
     "execution_count": 166,
     "metadata": {},
     "output_type": "execute_result"
    }
   ],
   "source": [
    "# Avg ingameDuration groupby rank\n",
    "tmp_data = chall_sum_group_df['ingameDuration']\n",
    "tmp_data.map(lambda x:x/9999)"
   ]
  },
  {
   "cell_type": "code",
   "execution_count": 168,
   "metadata": {
    "scrolled": true
   },
   "outputs": [
    {
     "data": {
      "text/plain": [
       "Ranked\n",
       "1    8.371337\n",
       "2    8.291529\n",
       "Name: level, dtype: float64"
      ]
     },
     "execution_count": 168,
     "metadata": {},
     "output_type": "execute_result"
    }
   ],
   "source": [
    "tmp_data = chall_sum_group_df['level']\n",
    "tmp_data.map(lambda x:x/9999).iloc[:2]"
   ]
  },
  {
   "cell_type": "code",
   "execution_count": 176,
   "metadata": {},
   "outputs": [
    {
     "data": {
      "text/plain": [
       "7.892926792679268"
      ]
     },
     "execution_count": 176,
     "metadata": {},
     "output_type": "execute_result"
    }
   ],
   "source": [
    "chall_copy['level'].mean()"
   ]
  },
  {
   "cell_type": "markdown",
   "metadata": {},
   "source": [
    "### res1) Avg of First ranked are higher than Second's\n",
    "- why this result "
   ]
  },
  {
   "cell_type": "markdown",
   "metadata": {},
   "source": [
    "## 3-1-1. Compare first and second rank | Avg level"
   ]
  },
  {
   "cell_type": "code",
   "execution_count": null,
   "metadata": {},
   "outputs": [],
   "source": []
  },
  {
   "cell_type": "code",
   "execution_count": null,
   "metadata": {},
   "outputs": [],
   "source": []
  },
  {
   "cell_type": "markdown",
   "metadata": {},
   "source": [
    "### 3-2. Each Ranked combination distribution"
   ]
  },
  {
   "cell_type": "markdown",
   "metadata": {},
   "source": [
    "- challengergame combination distribution\n",
    "    - first place distribution\n",
    "    - upper, Subvolume distribution"
   ]
  },
  {
   "cell_type": "code",
   "execution_count": 317,
   "metadata": {},
   "outputs": [],
   "source": [
    "# function\n",
    "\n",
    "def combination_distribution(df, rank, rank_range = False):\n",
    "    if rank_range == False:\n",
    "        df = df[df['Ranked']==rank]\n",
    "    elif rank_range == True:\n",
    "        \n",
    "        df2 = pd.DataFrame()\n",
    "        \n",
    "        for i in range(rank[0],rank[1]+1):\n",
    "            df2 = df2.append(df[df['Ranked']==i])\n",
    "            \n",
    "        df = df2\n",
    "    \n",
    "    forth_combi2 = []\n",
    "    third_combi, third_combi2 = [],[]\n",
    "    second_combi, second_combi2 = [],[]\n",
    "    first_combi, first_combi2 = [],[]\n",
    "    non_combi, non_combi2 = [], []\n",
    "    temp_ls = []\n",
    "\n",
    "    # 전체등수에 대해서\n",
    "    for i in range(len(df)):\n",
    "        char = df['combination'].iloc[i]\n",
    "        char2 = char.replace(\"'\",\"\\\"\")\n",
    "        key_ls = list(json.loads(char2).keys())\n",
    "        value_ls = list(json.loads(char2).values())\n",
    "        if i != 0  and i % 1000 ==0:\n",
    "            print(i)\n",
    "\n",
    "        for j in range(len(key_ls)):\n",
    "            if key_ls[j] in type_df['type'].tolist():\n",
    "                #마지막 시너지를 내고 있는 계열\n",
    "                if type_df[type_df['type']==key_ls[j]]['3rd'].iloc[0] == np.nan:\n",
    "                    pass #3rd가 null값이면 2nd나 1st에서 마지막 시너지이므로 패스\n",
    "                else:\n",
    "                    if value_ls[j] >= type_df[type_df['type']==key_ls[j]]['3rd'].iloc[0]:\n",
    "                        third_combi.append(key_ls[j])#3rd 시너지를 내고 있는 것\n",
    "                        continue\n",
    "                    else:\n",
    "                        pass\n",
    "\n",
    "                if type_df[type_df['type']==key_ls[j]]['2nd'].iloc[0] == np.nan:\n",
    "                    pass\n",
    "                else:\n",
    "                    if value_ls[j] >= type_df[type_df['type']==key_ls[j]]['2nd'].iloc[0]:\n",
    "                        second_combi.append(key_ls[j])\n",
    "                        continue\n",
    "                    else:\n",
    "                        pass\n",
    "\n",
    "                if value_ls[j] >= type_df[type_df['type']==key_ls[j]]['1st'].iloc[0]:\n",
    "                    first_combi.append(key_ls[j])\n",
    "\n",
    "                else:\n",
    "                    non_combi.append(key_ls[j])\n",
    "\n",
    "\n",
    "            elif key_ls[j] in work_df['work'].tolist():\n",
    "\n",
    "\n",
    "                if work_df[work_df['work']==key_ls[j]]['4th'].iloc[0] == np.nan:\n",
    "                    pass #3rd가 null값이면 2nd나 1st에서 마지막 시너지이므로 패스\n",
    "\n",
    "                else:\n",
    "                    if value_ls[j] >= work_df[work_df['work']==key_ls[j]]['4th'].iloc[0]:\n",
    "                        forth_combi2.append(key_ls[j]) #4th 시너지를 내고 있는 것\n",
    "                        continue\n",
    "                    else:\n",
    "                        pass\n",
    "\n",
    "                if work_df[work_df['work']==key_ls[j]]['3rd'].iloc[0] == np.nan:\n",
    "                    pass\n",
    "                else:\n",
    "                    if value_ls[j] >= work_df[work_df['work']==key_ls[j]]['3rd'].iloc[0]:\n",
    "                        third_combi2.append(key_ls[j])\n",
    "                        continue\n",
    "                    else:\n",
    "                        pass\n",
    "\n",
    "                if work_df[work_df['work']==key_ls[j]]['2nd'].iloc[0] == np.nan:\n",
    "                    pass\n",
    "                else:\n",
    "                    if value_ls[j] >= work_df[work_df['work']==key_ls[j]]['2nd'].iloc[0]:\n",
    "                        second_combi2.append(key_ls[j])\n",
    "                        continue\n",
    "                    else:\n",
    "                        pass\n",
    "\n",
    "                if value_ls[j] >= work_df[work_df['work']==key_ls[j]]['1st'].iloc[0]:\n",
    "                    first_combi2.append(key_ls[j])\n",
    "\n",
    "                else:\n",
    "                    non_combi2.append(key_ls[j])\n",
    "\n",
    "\n",
    "            else:\n",
    "                temp_ls.append(i)\n",
    "                \n",
    "    return non_combi, non_combi2, first_combi, first_combi2, second_combi, second_combi2\\\n",
    "            ,third_combi, third_combi2, forth_combi2, temp_ls"
   ]
  },
  {
   "cell_type": "code",
   "execution_count": 318,
   "metadata": {
    "scrolled": true
   },
   "outputs": [
    {
     "name": "stdout",
     "output_type": "stream",
     "text": [
      "1000\n",
      "2000\n",
      "3000\n",
      "4000\n",
      "5000\n",
      "6000\n",
      "7000\n",
      "8000\n",
      "9000\n"
     ]
    }
   ],
   "source": [
    "# challenger first place distribution\n",
    "\n",
    "non_combi, non_combi2, first_combi, first_combi2, second_combi, second_combi2,third_combi, third_combi2, forth_combi2, temp_ls = combination_distribution(chall_game,1)"
   ]
  },
  {
   "cell_type": "code",
   "execution_count": 316,
   "metadata": {},
   "outputs": [
    {
     "name": "stdout",
     "output_type": "stream",
     "text": [
      "21453\n",
      "8709\n",
      "{'Valkyrie', 'StarGuardian', 'Set3_Void', 'Rebel', 'SpacePirate', 'Set3_Celestial', 'MechPilot', 'Cybernetic', 'DarkStar', 'Chrono'}\n",
      "{'Sniper', 'Set3_Mystic', 'Set3_Blademaster', 'Demolitionist', 'Protector', 'Set3_Sorcerer', 'Set3_Brawler', 'Starship'}\n"
     ]
    }
   ],
   "source": [
    "print(len(non_combi))\n",
    "print(len(non_combi2))\n",
    "\n",
    "print(set(non_combi))\n",
    "print(set(non_combi2))"
   ]
  },
  {
   "cell_type": "markdown",
   "metadata": {},
   "source": [
    "### 3-3. EDA"
   ]
  },
  {
   "cell_type": "code",
   "execution_count": 306,
   "metadata": {},
   "outputs": [],
   "source": [
    "def class_distribution_plot(first_combination_list, second_combination_list, third_combination_list):\n",
    "    fig,axes = plt.subplots(3,1,figsize = (12,36))\n",
    "    \n",
    "    plot_key0 = pd.Series(first_combination_list).value_counts().keys().tolist()\n",
    "    plot_value0 = pd.Series(first_combination_list).value_counts().values.tolist()\n",
    "    \n",
    "    plot_key1 = pd.Series(second_combination_list).value_counts().keys().tolist()\n",
    "    plot_value1 = pd.Series(second_combination_list).value_counts().values.tolist()\n",
    "    \n",
    "    plot_key2 = pd.Series(third_combination_list).value_counts().keys().tolist()\n",
    "    plot_value2 = pd.Series(third_combination_list).value_counts().values.tolist()\n",
    "    \n",
    "\n",
    "    for ls,ax in zip([[plot_key0,plot_value0],[plot_key1,plot_value1],[plot_key2,plot_value2]],axes):\n",
    "        \n",
    "        ax.barh(ls[0],ls[1])\n",
    "\n",
    "        #ax.set_title('{} 이웃'.format(n_neighbors))\n",
    "        ax.set_xlabel('Value')\n",
    "        ax.set_ylabel('Synergy')\n",
    "        \n",
    "    return list(zip([[plot_key0,plot_value0],[plot_key1,plot_value1],[plot_key2,plot_value2]],axes))\n",
    "        \n",
    "def job_distribution_plot(first_combination_list, second_combination_list, third_combination_list,forth_combination):\n",
    "\n",
    "    fig,axes = plt.subplots(4,1,figsize = (12,48))\n",
    "    \n",
    "    plot_key0 = pd.Series(first_combination_list).value_counts().keys().tolist()\n",
    "    plot_value0 = pd.Series(first_combination_list).value_counts().values.tolist()\n",
    "    \n",
    "    plot_key1 = pd.Series(second_combination_list).value_counts().keys().tolist()\n",
    "    plot_value1 = pd.Series(second_combination_list).value_counts().values.tolist()\n",
    "    \n",
    "    plot_key2 = pd.Series(third_combination_list).value_counts().keys().tolist()\n",
    "    plot_value2 = pd.Series(third_combination_list).value_counts().values.tolist()\n",
    "    \n",
    "    plot_key3 = pd.Series(forth_combination).value_counts().keys().tolist()\n",
    "    plot_value3 = pd.Series(forth_combination).value_counts().values.tolist()\n",
    "    \n",
    "\n",
    "    for ls,ax in zip([[plot_key0,plot_value0],[plot_key1,plot_value1],[plot_key2,plot_value2],[plot_key3,plot_value3]],axes):\n",
    "        \n",
    "        ax.barh(ls[0],ls[1])\n",
    "\n",
    "        #ax.set_title('{} 이웃'.format(n_neighbors))\n",
    "        ax.set_xlabel('Value')\n",
    "        ax.set_ylabel('Synergy')\n",
    "    return list(zip([[plot_key0,plot_value0],[plot_key1,plot_value1],[plot_key2,plot_value2],[plot_key3,plot_value3]],axes))"
   ]
  },
  {
   "cell_type": "markdown",
   "metadata": {},
   "source": [
    "### 3-3-1. Challenger"
   ]
  },
  {
   "cell_type": "code",
   "execution_count": 307,
   "metadata": {
    "scrolled": false
   },
   "outputs": [
    {
     "data": {
      "image/png": "[encoded data removed]",
      "text/plain": [
       "<Figure size 864x2592 with 3 Axes>"
      ]
     },
     "metadata": {},
     "output_type": "display_data"
    }
   ],
   "source": [
    "first, second, third = class_distribution_plot(first_combi,second_combi,third_combi)"
   ]
  },
  {
   "cell_type": "code",
   "execution_count": 308,
   "metadata": {
    "scrolled": true
   },
   "outputs": [
    {
     "data": {
      "text/plain": [
       "([['Chrono',\n",
       "   'Set3_Celestial',\n",
       "   'Valkyrie',\n",
       "   'MechPilot',\n",
       "   'Rebel',\n",
       "   'DarkStar',\n",
       "   'SpacePirate',\n",
       "   'StarGuardian',\n",
       "   'Set3_Void',\n",
       "   'Cybernetic'],\n",
       "  [3928, 2889, 2707, 1594, 1245, 1226, 669, 336, 318, 209]],\n",
       " <matplotlib.axes._subplots.AxesSubplot at 0x277e525d7c8>)"
      ]
     },
     "execution_count": 308,
     "metadata": {},
     "output_type": "execute_result"
    }
   ],
   "source": [
    "first"
   ]
  },
  {
   "cell_type": "code",
   "execution_count": 309,
   "metadata": {},
   "outputs": [
    {
     "name": "stdout",
     "output_type": "stream",
     "text": [
      "[15121, 4899, 192]\n"
     ]
    }
   ],
   "source": [
    "print(list(map(len, [first_combi, second_combi, third_combi])))"
   ]
  },
  {
   "cell_type": "code",
   "execution_count": 319,
   "metadata": {
    "scrolled": false
   },
   "outputs": [
    {
     "data": {
      "image/png": "[encoded data removed]",
      "text/plain": [
       "<Figure size 864x3456 with 4 Axes>"
      ]
     },
     "metadata": {},
     "output_type": "display_data"
    }
   ],
   "source": [
    "first2, second2, third2, forth2 = job_distribution_plot(first_combi2,second_combi2,third_combi2,forth_combi2)"
   ]
  },
  {
   "cell_type": "code",
   "execution_count": 293,
   "metadata": {},
   "outputs": [
    {
     "name": "stdout",
     "output_type": "stream",
     "text": [
      "[12986, 3102, 477, 7]\n"
     ]
    }
   ],
   "source": [
    "print(list(map(len, [first_combi2, second_combi2, third_combi2, forth_combi2])))"
   ]
  },
  {
   "cell_type": "markdown",
   "metadata": {},
   "source": [
    "# Another Approach"
   ]
  },
  {
   "cell_type": "code",
   "execution_count": 98,
   "metadata": {},
   "outputs": [],
   "source": [
    "#Choosing Columns\n",
    "important_columns = ['level', 'lastRound', 'Ranked', 'combination']\n",
    "clean_tft_data = chall_game.copy()\n",
    "\n",
    "#Choosing the first 500 rows to quicken computations\n",
    "clean_tft_data = clean_tft_data[important_columns][0:500]\n",
    "clean_tft_data.head()\n",
    "\n",
    "#DataFrame for the \"Data-Science Aspect\"\n",
    "statistical_df = chall_game.copy()\n",
    "composition_column = statistical_df['combination']\n",
    "shortened_composition_column = composition_column[0:500]\n",
    "\n",
    "#Querying Columns from the DataFrame\n",
    "X_columns = ['combination', 'lastRound', 'level']\n",
    "y_column = ['Ranked']\n",
    "X = clean_tft_data[X_columns]\n",
    "y = clean_tft_data[y_column]"
   ]
  },
  {
   "cell_type": "code",
   "execution_count": 99,
   "metadata": {
    "scrolled": true
   },
   "outputs": [
    {
     "data": {
      "text/html": [
       "<div>\n",
       "<style scoped>\n",
       "    .dataframe tbody tr th:only-of-type {\n",
       "        vertical-align: middle;\n",
       "    }\n",
       "\n",
       "    .dataframe tbody tr th {\n",
       "        vertical-align: top;\n",
       "    }\n",
       "\n",
       "    .dataframe thead th {\n",
       "        text-align: right;\n",
       "    }\n",
       "</style>\n",
       "<table border=\"1\" class=\"dataframe\">\n",
       "  <thead>\n",
       "    <tr style=\"text-align: right;\">\n",
       "      <th></th>\n",
       "      <th>combination</th>\n",
       "      <th>lastRound</th>\n",
       "      <th>level</th>\n",
       "    </tr>\n",
       "  </thead>\n",
       "  <tbody>\n",
       "    <tr>\n",
       "      <th>0</th>\n",
       "      <td>{'DarkStar': 2, 'Protector': 4, 'Rebel': 1, 'S...</td>\n",
       "      <td>35</td>\n",
       "      <td>8</td>\n",
       "    </tr>\n",
       "    <tr>\n",
       "      <th>1</th>\n",
       "      <td>{'Blaster': 2, 'Mercenary': 1, 'Rebel': 6, 'Se...</td>\n",
       "      <td>35</td>\n",
       "      <td>9</td>\n",
       "    </tr>\n",
       "    <tr>\n",
       "      <th>2</th>\n",
       "      <td>{'Cybernetic': 1, 'DarkStar': 3, 'Demolitionis...</td>\n",
       "      <td>34</td>\n",
       "      <td>8</td>\n",
       "    </tr>\n",
       "    <tr>\n",
       "      <th>3</th>\n",
       "      <td>{'Blaster': 1, 'Cybernetic': 1, 'DarkStar': 1,...</td>\n",
       "      <td>33</td>\n",
       "      <td>8</td>\n",
       "    </tr>\n",
       "    <tr>\n",
       "      <th>4</th>\n",
       "      <td>{'Blaster': 2, 'Demolitionist': 2, 'Mercenary'...</td>\n",
       "      <td>33</td>\n",
       "      <td>9</td>\n",
       "    </tr>\n",
       "    <tr>\n",
       "      <th>...</th>\n",
       "      <td>...</td>\n",
       "      <td>...</td>\n",
       "      <td>...</td>\n",
       "    </tr>\n",
       "    <tr>\n",
       "      <th>495</th>\n",
       "      <td>{'Blaster': 2, 'Cybernetic': 4, 'Infiltrator':...</td>\n",
       "      <td>30</td>\n",
       "      <td>7</td>\n",
       "    </tr>\n",
       "    <tr>\n",
       "      <th>496</th>\n",
       "      <td>{'Chrono': 2, 'DarkStar': 3, 'ManaReaver': 1, ...</td>\n",
       "      <td>38</td>\n",
       "      <td>9</td>\n",
       "    </tr>\n",
       "    <tr>\n",
       "      <th>497</th>\n",
       "      <td>{'Blaster': 2, 'Chrono': 3, 'Cybernetic': 6, '...</td>\n",
       "      <td>38</td>\n",
       "      <td>9</td>\n",
       "    </tr>\n",
       "    <tr>\n",
       "      <th>498</th>\n",
       "      <td>{'DarkStar': 3, 'Demolitionist': 2, 'Infiltrat...</td>\n",
       "      <td>34</td>\n",
       "      <td>8</td>\n",
       "    </tr>\n",
       "    <tr>\n",
       "      <th>499</th>\n",
       "      <td>{'DarkStar': 1, 'Demolitionist': 3, 'Infiltrat...</td>\n",
       "      <td>34</td>\n",
       "      <td>9</td>\n",
       "    </tr>\n",
       "  </tbody>\n",
       "</table>\n",
       "<p>500 rows × 3 columns</p>\n",
       "</div>"
      ],
      "text/plain": [
       "                                           combination  lastRound  level\n",
       "0    {'DarkStar': 2, 'Protector': 4, 'Rebel': 1, 'S...         35      8\n",
       "1    {'Blaster': 2, 'Mercenary': 1, 'Rebel': 6, 'Se...         35      9\n",
       "2    {'Cybernetic': 1, 'DarkStar': 3, 'Demolitionis...         34      8\n",
       "3    {'Blaster': 1, 'Cybernetic': 1, 'DarkStar': 1,...         33      8\n",
       "4    {'Blaster': 2, 'Demolitionist': 2, 'Mercenary'...         33      9\n",
       "..                                                 ...        ...    ...\n",
       "495  {'Blaster': 2, 'Cybernetic': 4, 'Infiltrator':...         30      7\n",
       "496  {'Chrono': 2, 'DarkStar': 3, 'ManaReaver': 1, ...         38      9\n",
       "497  {'Blaster': 2, 'Chrono': 3, 'Cybernetic': 6, '...         38      9\n",
       "498  {'DarkStar': 3, 'Demolitionist': 2, 'Infiltrat...         34      8\n",
       "499  {'DarkStar': 1, 'Demolitionist': 3, 'Infiltrat...         34      9\n",
       "\n",
       "[500 rows x 3 columns]"
      ]
     },
     "execution_count": 99,
     "metadata": {},
     "output_type": "execute_result"
    }
   ],
   "source": [
    "X"
   ]
  },
  {
   "cell_type": "code",
   "execution_count": 100,
   "metadata": {
    "scrolled": true
   },
   "outputs": [
    {
     "data": {
      "text/html": [
       "<div>\n",
       "<style scoped>\n",
       "    .dataframe tbody tr th:only-of-type {\n",
       "        vertical-align: middle;\n",
       "    }\n",
       "\n",
       "    .dataframe tbody tr th {\n",
       "        vertical-align: top;\n",
       "    }\n",
       "\n",
       "    .dataframe thead th {\n",
       "        text-align: right;\n",
       "    }\n",
       "</style>\n",
       "<table border=\"1\" class=\"dataframe\">\n",
       "  <thead>\n",
       "    <tr style=\"text-align: right;\">\n",
       "      <th></th>\n",
       "      <th>Ranked</th>\n",
       "    </tr>\n",
       "  </thead>\n",
       "  <tbody>\n",
       "    <tr>\n",
       "      <th>0</th>\n",
       "      <td>1</td>\n",
       "    </tr>\n",
       "    <tr>\n",
       "      <th>1</th>\n",
       "      <td>2</td>\n",
       "    </tr>\n",
       "    <tr>\n",
       "      <th>2</th>\n",
       "      <td>3</td>\n",
       "    </tr>\n",
       "    <tr>\n",
       "      <th>3</th>\n",
       "      <td>4</td>\n",
       "    </tr>\n",
       "    <tr>\n",
       "      <th>4</th>\n",
       "      <td>5</td>\n",
       "    </tr>\n",
       "    <tr>\n",
       "      <th>...</th>\n",
       "      <td>...</td>\n",
       "    </tr>\n",
       "    <tr>\n",
       "      <th>495</th>\n",
       "      <td>8</td>\n",
       "    </tr>\n",
       "    <tr>\n",
       "      <th>496</th>\n",
       "      <td>1</td>\n",
       "    </tr>\n",
       "    <tr>\n",
       "      <th>497</th>\n",
       "      <td>2</td>\n",
       "    </tr>\n",
       "    <tr>\n",
       "      <th>498</th>\n",
       "      <td>3</td>\n",
       "    </tr>\n",
       "    <tr>\n",
       "      <th>499</th>\n",
       "      <td>4</td>\n",
       "    </tr>\n",
       "  </tbody>\n",
       "</table>\n",
       "<p>500 rows × 1 columns</p>\n",
       "</div>"
      ],
      "text/plain": [
       "     Ranked\n",
       "0         1\n",
       "1         2\n",
       "2         3\n",
       "3         4\n",
       "4         5\n",
       "..      ...\n",
       "495       8\n",
       "496       1\n",
       "497       2\n",
       "498       3\n",
       "499       4\n",
       "\n",
       "[500 rows x 1 columns]"
      ]
     },
     "execution_count": 100,
     "metadata": {},
     "output_type": "execute_result"
    }
   ],
   "source": [
    "y"
   ]
  },
  {
   "cell_type": "code",
   "execution_count": 103,
   "metadata": {},
   "outputs": [],
   "source": [
    "import ast\n",
    "\n",
    "shortened_statistical_df = statistical_df.copy()[0:1000]\n",
    "shortened_statistical_df['combination'] = shortened_statistical_df['combination'].apply(lambda x: ast.literal_eval(x))\n",
    "team_comp_column = shortened_statistical_df['combination']\n",
    "\n",
    "team_comp_dict = team_comp_column.copy().to_dict()\n",
    "team_comp_list = [values for values in team_comp_dict.values()]\n",
    "distinct_classes = []\n",
    "for el in team_comp_list:\n",
    "    for item in el:\n",
    "        if item not in distinct_classes:\n",
    "            distinct_classes.append(item)\n",
    "            \n",
    "for item in distinct_classes:\n",
    "    shortened_statistical_df[item] = 0\n",
    "    \n",
    "trait_only_columns = shortened_statistical_df.copy()[distinct_classes]"
   ]
  },
  {
   "cell_type": "code",
   "execution_count": 104,
   "metadata": {
    "scrolled": true
   },
   "outputs": [
    {
     "data": {
      "text/html": [
       "<div>\n",
       "<style scoped>\n",
       "    .dataframe tbody tr th:only-of-type {\n",
       "        vertical-align: middle;\n",
       "    }\n",
       "\n",
       "    .dataframe tbody tr th {\n",
       "        vertical-align: top;\n",
       "    }\n",
       "\n",
       "    .dataframe thead th {\n",
       "        text-align: right;\n",
       "    }\n",
       "</style>\n",
       "<table border=\"1\" class=\"dataframe\">\n",
       "  <thead>\n",
       "    <tr style=\"text-align: right;\">\n",
       "      <th></th>\n",
       "      <th>DarkStar</th>\n",
       "      <th>Protector</th>\n",
       "      <th>Rebel</th>\n",
       "      <th>Set3_Celestial</th>\n",
       "      <th>Set3_Mystic</th>\n",
       "      <th>StarGuardian</th>\n",
       "      <th>TemplateTrait</th>\n",
       "      <th>Blaster</th>\n",
       "      <th>Mercenary</th>\n",
       "      <th>Set3_Blademaster</th>\n",
       "      <th>...</th>\n",
       "      <th>Demolitionist</th>\n",
       "      <th>Infiltrator</th>\n",
       "      <th>MechPilot</th>\n",
       "      <th>Set3_Sorcerer</th>\n",
       "      <th>SpacePirate</th>\n",
       "      <th>Chrono</th>\n",
       "      <th>Set3_Void</th>\n",
       "      <th>Sniper</th>\n",
       "      <th>Vanguard</th>\n",
       "      <th>ManaReaver</th>\n",
       "    </tr>\n",
       "  </thead>\n",
       "  <tbody>\n",
       "    <tr>\n",
       "      <th>0</th>\n",
       "      <td>0</td>\n",
       "      <td>0</td>\n",
       "      <td>0</td>\n",
       "      <td>0</td>\n",
       "      <td>0</td>\n",
       "      <td>0</td>\n",
       "      <td>0</td>\n",
       "      <td>0</td>\n",
       "      <td>0</td>\n",
       "      <td>0</td>\n",
       "      <td>...</td>\n",
       "      <td>0</td>\n",
       "      <td>0</td>\n",
       "      <td>0</td>\n",
       "      <td>0</td>\n",
       "      <td>0</td>\n",
       "      <td>0</td>\n",
       "      <td>0</td>\n",
       "      <td>0</td>\n",
       "      <td>0</td>\n",
       "      <td>0</td>\n",
       "    </tr>\n",
       "    <tr>\n",
       "      <th>1</th>\n",
       "      <td>0</td>\n",
       "      <td>0</td>\n",
       "      <td>0</td>\n",
       "      <td>0</td>\n",
       "      <td>0</td>\n",
       "      <td>0</td>\n",
       "      <td>0</td>\n",
       "      <td>0</td>\n",
       "      <td>0</td>\n",
       "      <td>0</td>\n",
       "      <td>...</td>\n",
       "      <td>0</td>\n",
       "      <td>0</td>\n",
       "      <td>0</td>\n",
       "      <td>0</td>\n",
       "      <td>0</td>\n",
       "      <td>0</td>\n",
       "      <td>0</td>\n",
       "      <td>0</td>\n",
       "      <td>0</td>\n",
       "      <td>0</td>\n",
       "    </tr>\n",
       "    <tr>\n",
       "      <th>2</th>\n",
       "      <td>0</td>\n",
       "      <td>0</td>\n",
       "      <td>0</td>\n",
       "      <td>0</td>\n",
       "      <td>0</td>\n",
       "      <td>0</td>\n",
       "      <td>0</td>\n",
       "      <td>0</td>\n",
       "      <td>0</td>\n",
       "      <td>0</td>\n",
       "      <td>...</td>\n",
       "      <td>0</td>\n",
       "      <td>0</td>\n",
       "      <td>0</td>\n",
       "      <td>0</td>\n",
       "      <td>0</td>\n",
       "      <td>0</td>\n",
       "      <td>0</td>\n",
       "      <td>0</td>\n",
       "      <td>0</td>\n",
       "      <td>0</td>\n",
       "    </tr>\n",
       "    <tr>\n",
       "      <th>3</th>\n",
       "      <td>0</td>\n",
       "      <td>0</td>\n",
       "      <td>0</td>\n",
       "      <td>0</td>\n",
       "      <td>0</td>\n",
       "      <td>0</td>\n",
       "      <td>0</td>\n",
       "      <td>0</td>\n",
       "      <td>0</td>\n",
       "      <td>0</td>\n",
       "      <td>...</td>\n",
       "      <td>0</td>\n",
       "      <td>0</td>\n",
       "      <td>0</td>\n",
       "      <td>0</td>\n",
       "      <td>0</td>\n",
       "      <td>0</td>\n",
       "      <td>0</td>\n",
       "      <td>0</td>\n",
       "      <td>0</td>\n",
       "      <td>0</td>\n",
       "    </tr>\n",
       "    <tr>\n",
       "      <th>4</th>\n",
       "      <td>0</td>\n",
       "      <td>0</td>\n",
       "      <td>0</td>\n",
       "      <td>0</td>\n",
       "      <td>0</td>\n",
       "      <td>0</td>\n",
       "      <td>0</td>\n",
       "      <td>0</td>\n",
       "      <td>0</td>\n",
       "      <td>0</td>\n",
       "      <td>...</td>\n",
       "      <td>0</td>\n",
       "      <td>0</td>\n",
       "      <td>0</td>\n",
       "      <td>0</td>\n",
       "      <td>0</td>\n",
       "      <td>0</td>\n",
       "      <td>0</td>\n",
       "      <td>0</td>\n",
       "      <td>0</td>\n",
       "      <td>0</td>\n",
       "    </tr>\n",
       "    <tr>\n",
       "      <th>...</th>\n",
       "      <td>...</td>\n",
       "      <td>...</td>\n",
       "      <td>...</td>\n",
       "      <td>...</td>\n",
       "      <td>...</td>\n",
       "      <td>...</td>\n",
       "      <td>...</td>\n",
       "      <td>...</td>\n",
       "      <td>...</td>\n",
       "      <td>...</td>\n",
       "      <td>...</td>\n",
       "      <td>...</td>\n",
       "      <td>...</td>\n",
       "      <td>...</td>\n",
       "      <td>...</td>\n",
       "      <td>...</td>\n",
       "      <td>...</td>\n",
       "      <td>...</td>\n",
       "      <td>...</td>\n",
       "      <td>...</td>\n",
       "      <td>...</td>\n",
       "    </tr>\n",
       "    <tr>\n",
       "      <th>995</th>\n",
       "      <td>0</td>\n",
       "      <td>0</td>\n",
       "      <td>0</td>\n",
       "      <td>0</td>\n",
       "      <td>0</td>\n",
       "      <td>0</td>\n",
       "      <td>0</td>\n",
       "      <td>0</td>\n",
       "      <td>0</td>\n",
       "      <td>0</td>\n",
       "      <td>...</td>\n",
       "      <td>0</td>\n",
       "      <td>0</td>\n",
       "      <td>0</td>\n",
       "      <td>0</td>\n",
       "      <td>0</td>\n",
       "      <td>0</td>\n",
       "      <td>0</td>\n",
       "      <td>0</td>\n",
       "      <td>0</td>\n",
       "      <td>0</td>\n",
       "    </tr>\n",
       "    <tr>\n",
       "      <th>996</th>\n",
       "      <td>0</td>\n",
       "      <td>0</td>\n",
       "      <td>0</td>\n",
       "      <td>0</td>\n",
       "      <td>0</td>\n",
       "      <td>0</td>\n",
       "      <td>0</td>\n",
       "      <td>0</td>\n",
       "      <td>0</td>\n",
       "      <td>0</td>\n",
       "      <td>...</td>\n",
       "      <td>0</td>\n",
       "      <td>0</td>\n",
       "      <td>0</td>\n",
       "      <td>0</td>\n",
       "      <td>0</td>\n",
       "      <td>0</td>\n",
       "      <td>0</td>\n",
       "      <td>0</td>\n",
       "      <td>0</td>\n",
       "      <td>0</td>\n",
       "    </tr>\n",
       "    <tr>\n",
       "      <th>997</th>\n",
       "      <td>0</td>\n",
       "      <td>0</td>\n",
       "      <td>0</td>\n",
       "      <td>0</td>\n",
       "      <td>0</td>\n",
       "      <td>0</td>\n",
       "      <td>0</td>\n",
       "      <td>0</td>\n",
       "      <td>0</td>\n",
       "      <td>0</td>\n",
       "      <td>...</td>\n",
       "      <td>0</td>\n",
       "      <td>0</td>\n",
       "      <td>0</td>\n",
       "      <td>0</td>\n",
       "      <td>0</td>\n",
       "      <td>0</td>\n",
       "      <td>0</td>\n",
       "      <td>0</td>\n",
       "      <td>0</td>\n",
       "      <td>0</td>\n",
       "    </tr>\n",
       "    <tr>\n",
       "      <th>998</th>\n",
       "      <td>0</td>\n",
       "      <td>0</td>\n",
       "      <td>0</td>\n",
       "      <td>0</td>\n",
       "      <td>0</td>\n",
       "      <td>0</td>\n",
       "      <td>0</td>\n",
       "      <td>0</td>\n",
       "      <td>0</td>\n",
       "      <td>0</td>\n",
       "      <td>...</td>\n",
       "      <td>0</td>\n",
       "      <td>0</td>\n",
       "      <td>0</td>\n",
       "      <td>0</td>\n",
       "      <td>0</td>\n",
       "      <td>0</td>\n",
       "      <td>0</td>\n",
       "      <td>0</td>\n",
       "      <td>0</td>\n",
       "      <td>0</td>\n",
       "    </tr>\n",
       "    <tr>\n",
       "      <th>999</th>\n",
       "      <td>0</td>\n",
       "      <td>0</td>\n",
       "      <td>0</td>\n",
       "      <td>0</td>\n",
       "      <td>0</td>\n",
       "      <td>0</td>\n",
       "      <td>0</td>\n",
       "      <td>0</td>\n",
       "      <td>0</td>\n",
       "      <td>0</td>\n",
       "      <td>...</td>\n",
       "      <td>0</td>\n",
       "      <td>0</td>\n",
       "      <td>0</td>\n",
       "      <td>0</td>\n",
       "      <td>0</td>\n",
       "      <td>0</td>\n",
       "      <td>0</td>\n",
       "      <td>0</td>\n",
       "      <td>0</td>\n",
       "      <td>0</td>\n",
       "    </tr>\n",
       "  </tbody>\n",
       "</table>\n",
       "<p>1000 rows × 24 columns</p>\n",
       "</div>"
      ],
      "text/plain": [
       "     DarkStar  Protector  Rebel  Set3_Celestial  Set3_Mystic  StarGuardian  \\\n",
       "0           0          0      0               0            0             0   \n",
       "1           0          0      0               0            0             0   \n",
       "2           0          0      0               0            0             0   \n",
       "3           0          0      0               0            0             0   \n",
       "4           0          0      0               0            0             0   \n",
       "..        ...        ...    ...             ...          ...           ...   \n",
       "995         0          0      0               0            0             0   \n",
       "996         0          0      0               0            0             0   \n",
       "997         0          0      0               0            0             0   \n",
       "998         0          0      0               0            0             0   \n",
       "999         0          0      0               0            0             0   \n",
       "\n",
       "     TemplateTrait  Blaster  Mercenary  Set3_Blademaster  ...  Demolitionist  \\\n",
       "0                0        0          0                 0  ...              0   \n",
       "1                0        0          0                 0  ...              0   \n",
       "2                0        0          0                 0  ...              0   \n",
       "3                0        0          0                 0  ...              0   \n",
       "4                0        0          0                 0  ...              0   \n",
       "..             ...      ...        ...               ...  ...            ...   \n",
       "995              0        0          0                 0  ...              0   \n",
       "996              0        0          0                 0  ...              0   \n",
       "997              0        0          0                 0  ...              0   \n",
       "998              0        0          0                 0  ...              0   \n",
       "999              0        0          0                 0  ...              0   \n",
       "\n",
       "     Infiltrator  MechPilot  Set3_Sorcerer  SpacePirate  Chrono  Set3_Void  \\\n",
       "0              0          0              0            0       0          0   \n",
       "1              0          0              0            0       0          0   \n",
       "2              0          0              0            0       0          0   \n",
       "3              0          0              0            0       0          0   \n",
       "4              0          0              0            0       0          0   \n",
       "..           ...        ...            ...          ...     ...        ...   \n",
       "995            0          0              0            0       0          0   \n",
       "996            0          0              0            0       0          0   \n",
       "997            0          0              0            0       0          0   \n",
       "998            0          0              0            0       0          0   \n",
       "999            0          0              0            0       0          0   \n",
       "\n",
       "     Sniper  Vanguard  ManaReaver  \n",
       "0         0         0           0  \n",
       "1         0         0           0  \n",
       "2         0         0           0  \n",
       "3         0         0           0  \n",
       "4         0         0           0  \n",
       "..      ...       ...         ...  \n",
       "995       0         0           0  \n",
       "996       0         0           0  \n",
       "997       0         0           0  \n",
       "998       0         0           0  \n",
       "999       0         0           0  \n",
       "\n",
       "[1000 rows x 24 columns]"
      ]
     },
     "execution_count": 104,
     "metadata": {},
     "output_type": "execute_result"
    }
   ],
   "source": [
    "trait_only_columns"
   ]
  },
  {
   "cell_type": "markdown",
   "metadata": {},
   "source": [
    "## Statistical Analysis\n",
    "\n",
    "Along with the predictions, I want to find the relationships of the following:\n",
    "\n",
    "- Correlation between gameDuration and level\n",
    "- Frequency of different unit types in relation to rank and gameDuration  \n",
    "<br><br>\n",
    "Visualizing these sets of data can serve as a meta snapshot for the current TFT patch. Korean metas (Most Effective Tactics Available) are already known by the time this is created. However, I feel like this would be a fun project: to back up what's meta with actual numbers from hundreds of different matches in the lobby."
   ]
  },
  {
   "cell_type": "code",
   "execution_count": 111,
   "metadata": {},
   "outputs": [],
   "source": [
    "# import module\n",
    "from sklearn.model_selection import train_test_split\n",
    "\n",
    "X_train, X_valid, y_train, y_valid = train_test_split(X, y, test_size=0.33, random_state=1)"
   ]
  },
  {
   "cell_type": "code",
   "execution_count": 211,
   "metadata": {},
   "outputs": [
    {
     "data": {
      "text/plain": [
       "[335, 165, 335, 165]"
      ]
     },
     "execution_count": 211,
     "metadata": {},
     "output_type": "execute_result"
    }
   ],
   "source": [
    "list(map(len, [X_train, X_valid, y_train, y_valid])) # train_size : test_size"
   ]
  },
  {
   "cell_type": "code",
   "execution_count": 199,
   "metadata": {},
   "outputs": [
    {
     "name": "stdout",
     "output_type": "stream",
     "text": [
      "Categorical Columns:\n",
      "['combination']\n",
      "\n",
      "Numerical Columns: \n",
      "['level', 'lastRound']\n"
     ]
    }
   ],
   "source": [
    "s = (X_train.dtypes == 'object')\n",
    "categorical_cols = list(s[s].index)\n",
    "print('Categorical Columns:')\n",
    "print(categorical_cols)\n",
    "numerical_cols = list(set(X_train.columns) - set(categorical_cols))\n",
    "\n",
    "print('\\nNumerical Columns: ')\n",
    "print(numerical_cols)"
   ]
  },
  {
   "cell_type": "code",
   "execution_count": 251,
   "metadata": {},
   "outputs": [
    {
     "data": {
      "text/plain": [
       "combination    True\n",
       "dtype: bool"
      ]
     },
     "execution_count": 251,
     "metadata": {},
     "output_type": "execute_result"
    }
   ],
   "source": []
  },
  {
   "cell_type": "code",
   "execution_count": 195,
   "metadata": {},
   "outputs": [
    {
     "data": {
      "text/plain": [
       "combination     True\n",
       "lastRound      False\n",
       "level          False\n",
       "dtype: bool"
      ]
     },
     "execution_count": 195,
     "metadata": {},
     "output_type": "execute_result"
    }
   ],
   "source": [
    "X_train.dtypes == 'object'"
   ]
  },
  {
   "cell_type": "code",
   "execution_count": 203,
   "metadata": {
    "scrolled": true
   },
   "outputs": [
    {
     "data": {
      "text/plain": [
       "0      {'DarkStar': 2, 'Protector': 4, 'Rebel': 1, 'S...\n",
       "1      {'Blaster': 2, 'Mercenary': 1, 'Rebel': 6, 'Se...\n",
       "2      {'Cybernetic': 1, 'DarkStar': 3, 'Demolitionis...\n",
       "3      {'Blaster': 1, 'Cybernetic': 1, 'DarkStar': 1,...\n",
       "4      {'Blaster': 2, 'Demolitionist': 2, 'Mercenary'...\n",
       "                             ...                        \n",
       "495    {'Blaster': 2, 'Cybernetic': 4, 'Infiltrator':...\n",
       "496    {'Chrono': 2, 'DarkStar': 3, 'ManaReaver': 1, ...\n",
       "497    {'Blaster': 2, 'Chrono': 3, 'Cybernetic': 6, '...\n",
       "498    {'DarkStar': 3, 'Demolitionist': 2, 'Infiltrat...\n",
       "499    {'DarkStar': 1, 'Demolitionist': 3, 'Infiltrat...\n",
       "Name: combination, Length: 500, dtype: object"
      ]
     },
     "execution_count": 203,
     "metadata": {},
     "output_type": "execute_result"
    }
   ],
   "source": [
    "X['combination']"
   ]
  },
  {
   "cell_type": "code",
   "execution_count": 113,
   "metadata": {},
   "outputs": [],
   "source": [
    "from sklearn.compose import ColumnTransformer\n",
    "from sklearn.pipeline import Pipeline\n",
    "from sklearn.impute import SimpleImputer\n",
    "from sklearn.preprocessing import OneHotEncoder\n",
    "\n",
    "numerical_transformer = SimpleImputer(strategy='constant')\n",
    "\n",
    "categorical_transformer = Pipeline(steps=[\n",
    "    ('imputer', SimpleImputer(strategy='most_frequent')),\n",
    "    ('onehot', OneHotEncoder(handle_unknown='ignore'))\n",
    "])\n",
    "\n",
    "preprocessor = ColumnTransformer(\n",
    "    transformers=[\n",
    "        ('num', numerical_transformer, numerical_cols),\n",
    "        ('cat', categorical_transformer, categorical_cols)\n",
    "    ]\n",
    ")"
   ]
  },
  {
   "cell_type": "code",
   "execution_count": 200,
   "metadata": {
    "scrolled": false
   },
   "outputs": [
    {
     "data": {
      "text/plain": [
       "Pipeline(steps=[('imputer', SimpleImputer(strategy='most_frequent')),\n",
       "                ('onehot', OneHotEncoder(handle_unknown='ignore'))])"
      ]
     },
     "execution_count": 200,
     "metadata": {},
     "output_type": "execute_result"
    }
   ],
   "source": [
    "categorical_transformer"
   ]
  },
  {
   "cell_type": "code",
   "execution_count": 201,
   "metadata": {},
   "outputs": [
    {
     "data": {
      "text/plain": [
       "ColumnTransformer(transformers=[('num', SimpleImputer(strategy='constant'),\n",
       "                                 ['level', 'lastRound']),\n",
       "                                ('cat',\n",
       "                                 Pipeline(steps=[('imputer',\n",
       "                                                  SimpleImputer(strategy='most_frequent')),\n",
       "                                                 ('onehot',\n",
       "                                                  OneHotEncoder(handle_unknown='ignore'))]),\n",
       "                                 ['combination'])])"
      ]
     },
     "execution_count": 201,
     "metadata": {},
     "output_type": "execute_result"
    }
   ],
   "source": [
    "preprocessor"
   ]
  },
  {
   "cell_type": "markdown",
   "metadata": {},
   "source": [
    "## correlation between ingameDuration and level\n",
    "- Using LinearRegression"
   ]
  },
  {
   "cell_type": "code",
   "execution_count": 273,
   "metadata": {
    "scrolled": true
   },
   "outputs": [
    {
     "name": "stdout",
     "output_type": "stream",
     "text": [
      "Categorical Columns:\n",
      "Index(['gameId', 'combination', 'champion'], dtype='object')\n",
      "\n",
      "Numerical Columns: \n",
      "['lastRound', 'level', 'gameDuration', 'Ranked', 'ingameDuration']\n"
     ]
    }
   ],
   "source": [
    "chall_copy.head().dtypes\n",
    "# numerical_cols = ['ingameDuration', 'level', 'ranked']\n",
    "cat_s = (chall_copy.dtypes == 'object')\n",
    "categorical_cols = cat_s[cat_s].index\n",
    "numerical_cols = list(set(chall_copy.columns) - set(categorical_cols))\n",
    "\n",
    "print('Categorical Columns:')\n",
    "print(categorical_cols)\n",
    "\n",
    "print('\\nNumerical Columns: ')\n",
    "print(numerical_cols)"
   ]
  },
  {
   "cell_type": "code",
   "execution_count": 274,
   "metadata": {},
   "outputs": [
    {
     "name": "stdout",
     "output_type": "stream",
     "text": [
      "\n",
      "Numerical Columns: \n",
      "['lastRound', 'level', 'Ranked', 'ingameDuration']\n"
     ]
    },
    {
     "data": {
      "image/png": "[encoded data removed]",
      "text/plain": [
       "<Figure size 432x288 with 2 Axes>"
      ]
     },
     "metadata": {},
     "output_type": "display_data"
    }
   ],
   "source": [
    "# numerical data correlations\n",
    "import seaborn as sn\n",
    "\n",
    "numerical_cols.pop(2) # drop gameDuration\n",
    "important_numerics = numerical_cols\n",
    "numeric_df = chall_copy[important_numerics]\n",
    "numeric_df.head()\n",
    "\n",
    "print('\\nNumerical Columns: ')\n",
    "print(numerical_cols)\n",
    "\n",
    "corrMatrix = numeric_df.corr()\n",
    "sn.heatmap(corrMatrix, annot=True)\n",
    "plt.show()"
   ]
  },
  {
   "cell_type": "markdown",
   "metadata": {},
   "source": [
    "# Level distribution of lastRound"
   ]
  },
  {
   "cell_type": "code",
   "execution_count": 339,
   "metadata": {
    "scrolled": true
   },
   "outputs": [
    {
     "data": {
      "text/plain": [
       "<matplotlib.collections.PathCollection at 0x277d29e58c8>"
      ]
     },
     "execution_count": 339,
     "metadata": {},
     "output_type": "execute_result"
    },
    {
     "data": {
      "image/png": "[encoded data removed]",
      "text/plain": [
       "<Figure size 864x864 with 1 Axes>"
      ]
     },
     "metadata": {},
     "output_type": "display_data"
    }
   ],
   "source": [
    "axes = plt.subplots(1,1,figsize = (12,12))\n",
    "level_series = pd.Series(chall_copy['level'])\n",
    "last_rounds_series = pd.Series(chall_copy['lastRound'])\n",
    "plt.scatter(level_series, last_rounds_series,)"
   ]
  },
  {
   "cell_type": "code",
   "execution_count": 342,
   "metadata": {},
   "outputs": [
    {
     "data": {
      "text/plain": [
       "LinearRegression()"
      ]
     },
     "execution_count": 342,
     "metadata": {},
     "output_type": "execute_result"
    }
   ],
   "source": [
    "# 선형회귀모델\n",
    "\n",
    "from sklearn.linear_model import LinearRegression\n",
    "lm_model = LinearRegression()\n",
    "lm_model.fit(level_series.values.reshape(-1,1), last_rounds_series)"
   ]
  },
  {
   "cell_type": "code",
   "execution_count": 345,
   "metadata": {},
   "outputs": [
    {
     "data": {
      "text/plain": [
       "array([18.99989233])"
      ]
     },
     "execution_count": 345,
     "metadata": {},
     "output_type": "execute_result"
    }
   ],
   "source": [
    "lm_model.predict([[4]])"
   ]
  },
  {
   "cell_type": "code",
   "execution_count": 350,
   "metadata": {},
   "outputs": [
    {
     "data": {
      "text/plain": [
       "[<matplotlib.lines.Line2D at 0x277d2813b08>]"
      ]
     },
     "execution_count": 350,
     "metadata": {},
     "output_type": "execute_result"
    },
    {
     "data": {
      "image/png": "[encoded data removed]",
      "text/plain": [
       "<Figure size 864x864 with 1 Axes>"
      ]
     },
     "metadata": {},
     "output_type": "display_data"
    }
   ],
   "source": [
    "axes = plt.subplots(1,1,figsize = (12,12))\n",
    "plt.plot(level_series, last_rounds_series, 'o')\n",
    "plt.plot(level_series, lm_model.predict(level_series.values.reshape(-1, 1)))"
   ]
  },
  {
   "cell_type": "code",
   "execution_count": 114,
   "metadata": {},
   "outputs": [
    {
     "name": "stderr",
     "output_type": "stream",
     "text": [
      "C:\\Users\\win\\AppData\\Local\\Programs\\Python\\Python37\\lib\\site-packages\\sklearn\\pipeline.py:335: DataConversionWarning: A column-vector y was passed when a 1d array was expected. Please change the shape of y to (n_samples,), for example using ravel().\n",
      "  self._final_estimator.fit(Xt, y, **fit_params_last_step)\n"
     ]
    }
   ],
   "source": [
    "from sklearn.ensemble import RandomForestRegressor\n",
    "model = RandomForestRegressor(random_state=0, n_estimators=100)\n",
    "first_pipeline = Pipeline(steps=[\n",
    "    ('preprocessor', preprocessor),\n",
    "    ('forest_model', model)\n",
    "])\n",
    "first_pipeline.fit(X_train, y_train)\n",
    "first_pipeline_predictions = first_pipeline.predict(X_valid)"
   ]
  },
  {
   "cell_type": "code",
   "execution_count": 116,
   "metadata": {},
   "outputs": [],
   "source": [
    "from sklearn.tree import DecisionTreeRegressor\n",
    "second_model = DecisionTreeRegressor(random_state=1)\n",
    "second_pipeline = Pipeline(steps=[\n",
    "    ('preprocessor', preprocessor),\n",
    "    ('DecisionTreeRegressor', second_model)\n",
    "])\n",
    "\n",
    "second_pipeline.fit(X_train, y_train)\n",
    "second_pipeline_predictions = second_pipeline.predict(X_valid)"
   ]
  },
  {
   "cell_type": "code",
   "execution_count": 117,
   "metadata": {},
   "outputs": [
    {
     "name": "stdout",
     "output_type": "stream",
     "text": [
      "Random Forest MAE\n",
      "0.7768252525252525\n",
      "\n",
      "Decision Tree Regressor MAE\n",
      "0.7757575757575758\n"
     ]
    }
   ],
   "source": [
    "from sklearn.metrics import mean_absolute_error\n",
    "print(\"Random Forest MAE\")\n",
    "print(mean_absolute_error(first_pipeline_predictions, y_valid))\n",
    "print('')\n",
    "print('Decision Tree Regressor MAE')\n",
    "print(mean_absolute_error(second_pipeline_predictions, y_valid))"
   ]
  },
  {
   "cell_type": "code",
   "execution_count": null,
   "metadata": {},
   "outputs": [],
   "source": []
  }
 ],
 "metadata": {
  "kernelspec": {
   "display_name": "Python 3.7.6 64-bit",
   "language": "python",
   "name": "python37664bit565974b9bfee4c618c7106b9d75d4f72"
  },
  "language_info": {
   "codemirror_mode": {
    "name": "ipython",
    "version": 3
   },
   "file_extension": ".py",
   "mimetype": "text/x-python",
   "name": "python",
   "nbconvert_exporter": "python",
   "pygments_lexer": "ipython3",
   "version": "3.7.6"
  }
 },
 "nbformat": 4,
 "nbformat_minor": 4
}
